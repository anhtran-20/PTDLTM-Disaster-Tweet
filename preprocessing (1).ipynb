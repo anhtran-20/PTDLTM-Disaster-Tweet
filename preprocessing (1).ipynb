{
  "cells": [
    {
      "attachments": {},
      "cell_type": "markdown",
      "metadata": {
        "id": "qDT4iAcVuhgZ"
      },
      "source": [
        "# <font color=#0404B4>**SEMINAR - PHÂN TÍCH DỮ LIỆU THÔNG MINH** </font>\n",
        "\n",
        "### <font color=#0404B4> Bảng thành viên nhóm </font>\n",
        "|<center><div style=\"width:150px\">MSSV</div><center>|<center><div style=\"width:290px\">Họ và tên</div><center>|\n",
        "|---------- |:-------------:|\n",
        "| <center>20120032<center>  | <center>Phan Trường An<center> |\n",
        "| <center>20120037<center>  | <center>Trần Thị Minh Anh<center> |\n",
        "| <center>20120041<center>  | <center>Trần Kim Bảo<center> |\n",
        "| <center>20120053<center>  |   <center>Nguyễn Thành Đạt<center>   | \n",
        "| <center>20120071<center>  |<center>Nguyễn Thị Bích Hà<center> |\n",
        "| <center>20120095<center>  | <center>Ngô Quang Hưng<center> |"
      ]
    },
    {
      "attachments": {},
      "cell_type": "markdown",
      "metadata": {
        "id": "iDkvIYEIuhgg"
      },
      "source": [
        "# <font color=#0404B4>Import thư viện</font>"
      ]
    },
    {
      "cell_type": "code",
      "execution_count": null,
      "metadata": {
        "id": "wCLh27hEuhgh"
      },
      "outputs": [],
      "source": [
        "import pandas as pd\n",
        "import numpy as np\n",
        "import matplotlib.pyplot as plt\n",
        "import seaborn as sns\n",
        "import re\n",
        "from wordcloud import WordCloud\n",
        "sns.set_theme()\n",
        "pd.set_option(\"display.max_colwidth\", 250)"
      ]
    },
    {
      "cell_type": "code",
      "execution_count": null,
      "metadata": {
        "colab": {
          "base_uri": "https://localhost:8080/"
        },
        "id": "QmCV85Q-1urq",
        "outputId": "f35d9593-32af-4344-868c-bb7a5c848e2b"
      },
      "outputs": [],
      "source": [
        "# !pip install locationtagger\n",
        "# !pip install geotext\n",
        "# !pip install geopy\n",
        "# pip install matplotlib wordcloud"
      ]
    },
    {
      "cell_type": "code",
      "execution_count": null,
      "metadata": {
        "id": "Mw9mzOauUQKz"
      },
      "outputs": [],
      "source": [
        "from geotext import GeoText\n",
        "from geopy.geocoders import Nominatim"
      ]
    },
    {
      "attachments": {},
      "cell_type": "markdown",
      "metadata": {
        "id": "Pgtfr8Myuhgj"
      },
      "source": [
        "<a name=\"2\"></a>\n",
        "# <font color=#0404B4> A. Tiền xử lý dữ liệu</font>\n"
      ]
    },
    {
      "attachments": {},
      "cell_type": "markdown",
      "metadata": {
        "id": "fX8imcMQuhgk"
      },
      "source": [
        "### 1. Đọc dữ liệu"
      ]
    },
    {
      "cell_type": "code",
      "execution_count": null,
      "metadata": {
        "colab": {
          "base_uri": "https://localhost:8080/"
        },
        "id": "uf4wBvLauhgk",
        "outputId": "d1b4a097-4d1c-44bb-f4d2-1b3c62bcfb83"
      },
      "outputs": [],
      "source": [
        "train_df=pd.read_csv(\"train.csv\")\n",
        "train_df.shape"
      ]
    },
    {
      "cell_type": "code",
      "execution_count": null,
      "metadata": {
        "colab": {
          "base_uri": "https://localhost:8080/"
        },
        "id": "F3U52ZO0uhgm",
        "outputId": "1b9a7c6c-92b8-4167-bb55-a0844e76fcb1"
      },
      "outputs": [],
      "source": [
        "test_df=pd.read_csv(\"test.csv\")\n",
        "test_df.shape"
      ]
    },
    {
      "cell_type": "code",
      "execution_count": null,
      "metadata": {
        "colab": {
          "base_uri": "https://localhost:8080/"
        },
        "id": "0yO5froduhgn",
        "outputId": "017954df-beb3-4f0b-fda1-d4241690df33"
      },
      "outputs": [],
      "source": [
        "sample_submission_df=pd.read_csv(\"sample_submission.csv\")\n",
        "sample_submission_df.shape"
      ]
    },
    {
      "cell_type": "code",
      "execution_count": null,
      "metadata": {
        "colab": {
          "base_uri": "https://localhost:8080/",
          "height": 206
        },
        "id": "xs6xc_ciuhgo",
        "outputId": "14aad926-b2a3-48a8-cb2b-2bf1ffa708a1"
      },
      "outputs": [],
      "source": [
        "train_df.head()"
      ]
    },
    {
      "cell_type": "code",
      "execution_count": null,
      "metadata": {
        "colab": {
          "base_uri": "https://localhost:8080/",
          "height": 206
        },
        "id": "n2yWbN6euhgp",
        "outputId": "bc9dcf6c-172d-4596-f999-50b584a01e50"
      },
      "outputs": [],
      "source": [
        "test_df.head()"
      ]
    },
    {
      "cell_type": "code",
      "execution_count": null,
      "metadata": {
        "colab": {
          "base_uri": "https://localhost:8080/",
          "height": 206
        },
        "id": "YGHV0RMUuhgp",
        "outputId": "085ee412-39e9-4616-dde6-712a1d504ac0"
      },
      "outputs": [],
      "source": [
        "sample_submission_df.head()"
      ]
    },
    {
      "attachments": {},
      "cell_type": "markdown",
      "metadata": {
        "id": "pXKtjBInuhgq"
      },
      "source": [
        "### 2. Mỗi dòng có ý nghĩa gì? Có vấn đề các dòng có ý nghĩa khác nhau không?\n",
        "- `train_df`: Thông tin của tweet trên tập huấn luyện gồm: id, từ khóa, địa điểm gửi, nội dung và nhãn của tweet.\n",
        "- `test_df`: Thông tin của tweet trên tập test gồm: id, từ khóa, địa điểm gửi, nội dung.\n",
        "- `sample_submission_df`: định dạng nộp bài."
      ]
    },
    {
      "attachments": {},
      "cell_type": "markdown",
      "metadata": {
        "id": "GXZzg3c8uhgq"
      },
      "source": [
        "### 3. Có dữ liệu bị trùng lặp ở các dataframe không"
      ]
    },
    {
      "cell_type": "code",
      "execution_count": null,
      "metadata": {
        "id": "bRgo1M_Puhgq"
      },
      "outputs": [],
      "source": [
        "def check_duplicated(dataframe):\n",
        "    duplicated_rows = dataframe.duplicated()\n",
        "\n",
        "    # In các hàng bị lặp lại\n",
        "    if len(dataframe[duplicated_rows])>0:\n",
        "        print('Có dòng dữ liệu bị lặp')\n",
        "        display(dataframe[duplicated_rows])\n",
        "    else: \n",
        "        print('Không có dòng dữ liệu nào bị lặp')\n"
      ]
    },
    {
      "attachments": {},
      "cell_type": "markdown",
      "metadata": {
        "id": "YNAeCdx4uhgr"
      },
      "source": [
        "Dataframe `train_df`"
      ]
    },
    {
      "cell_type": "code",
      "execution_count": null,
      "metadata": {
        "colab": {
          "base_uri": "https://localhost:8080/"
        },
        "id": "HPSc_lDtuhgr",
        "outputId": "ffd00c97-3542-41b7-ec01-24644d1b8d1b"
      },
      "outputs": [],
      "source": [
        "check_duplicated(train_df)"
      ]
    },
    {
      "attachments": {},
      "cell_type": "markdown",
      "metadata": {
        "id": "n_y6XprGuhgr"
      },
      "source": [
        "Dataframe `test_df`"
      ]
    },
    {
      "cell_type": "code",
      "execution_count": null,
      "metadata": {
        "colab": {
          "base_uri": "https://localhost:8080/"
        },
        "id": "JaQkYcNhuhgs",
        "outputId": "7641f589-0f7a-489a-ac4d-adf81ed97a98"
      },
      "outputs": [],
      "source": [
        "check_duplicated(test_df)"
      ]
    },
    {
      "attachments": {},
      "cell_type": "markdown",
      "metadata": {
        "id": "CMeh819juhgs"
      },
      "source": [
        "Dataframe `sample_submission_df`"
      ]
    },
    {
      "cell_type": "code",
      "execution_count": null,
      "metadata": {
        "colab": {
          "base_uri": "https://localhost:8080/"
        },
        "id": "zx7ynlN4uhgs",
        "outputId": "83f75a65-fb19-412a-8c4e-1b08bda58392"
      },
      "outputs": [],
      "source": [
        "check_duplicated(sample_submission_df)"
      ]
    },
    {
      "attachments": {},
      "cell_type": "markdown",
      "metadata": {
        "id": "fs_eKD9Fuhgt"
      },
      "source": [
        "<h3> 4. Mỗi cột có ý nghĩa gì?</h3>"
      ]
    },
    {
      "attachments": {},
      "cell_type": "markdown",
      "metadata": {
        "id": "psE-YVKuuhgt"
      },
      "source": [
        "|STT|Tên cột dữ liệu | <center>Mô tả<center> | Ghi chú |\n",
        "|--|:------:| ---| --- |\n",
        "|1|id|<center>định danh của tweet<center>|\n",
        "|2|keyword| <center>Từ khóa được lấy từ tweet<center>|Có thể thiếu|\n",
        "|3|location|<center>Địa điểm đăng tweet<center>| Có thể thiếu|\n",
        "|4|text| <center>Nội dung của tweet<center>||\n",
        "|5|target|<center>Nhãn được gán cho tweet<center>|1: Thảm họa thực sự <br> 0: Không xảy ra thảm họa| \n"
      ]
    },
    {
      "attachments": {},
      "cell_type": "markdown",
      "metadata": {
        "id": "N3vvuiBHuhgt"
      },
      "source": [
        "\n",
        "### 5. Mỗi cột hiện đang có kiểu dữ liệu gì? Có cột nào có kiểu dữ liệu chưa phù hợp?\n",
        "\n"
      ]
    },
    {
      "attachments": {},
      "cell_type": "markdown",
      "metadata": {
        "id": "UwosgJGguhgu"
      },
      "source": [
        "Dataframe `train_df`"
      ]
    },
    {
      "cell_type": "code",
      "execution_count": null,
      "metadata": {
        "colab": {
          "base_uri": "https://localhost:8080/"
        },
        "id": "JePUZe0muhgu",
        "outputId": "83a5d943-783a-4868-f3c8-f401addfa415"
      },
      "outputs": [],
      "source": [
        "train_df.columns"
      ]
    },
    {
      "cell_type": "code",
      "execution_count": null,
      "metadata": {
        "colab": {
          "base_uri": "https://localhost:8080/"
        },
        "id": "EIbRTPoiuhgu",
        "outputId": "f99da8fb-0b3c-4e0c-8108-074455b29ef5"
      },
      "outputs": [],
      "source": [
        "train_df.info()"
      ]
    },
    {
      "attachments": {},
      "cell_type": "markdown",
      "metadata": {
        "id": "TXEpMKqYuhgv"
      },
      "source": [
        "Dataframe `test_df`"
      ]
    },
    {
      "cell_type": "code",
      "execution_count": null,
      "metadata": {
        "colab": {
          "base_uri": "https://localhost:8080/"
        },
        "id": "V_Pdskjnuhgv",
        "outputId": "5633cb53-7331-40cd-ca29-691ad9ba4d53"
      },
      "outputs": [],
      "source": [
        "test_df.columns"
      ]
    },
    {
      "cell_type": "code",
      "execution_count": null,
      "metadata": {
        "colab": {
          "base_uri": "https://localhost:8080/"
        },
        "id": "uSwqJnPvuhgv",
        "outputId": "39089f8e-18c6-41d2-a10a-7db2f2e58a8a"
      },
      "outputs": [],
      "source": [
        "test_df.info()"
      ]
    },
    {
      "attachments": {},
      "cell_type": "markdown",
      "metadata": {
        "id": "PlgWPUp7uhgw"
      },
      "source": [
        "- Nhận xét:\n",
        "    - Dựa vào ý nghĩa của id và kích thước của `train_df` và `test_df`, nhận thấy rằng chúng ta có thể merge dữ liệu ở 2 dataframe để tạo thành 1 dataframe mới: `tweet_df`. Để tiện cho phần khám phá dữ liệu."
      ]
    },
    {
      "cell_type": "code",
      "execution_count": null,
      "metadata": {
        "id": "zxGeceGpuhgw"
      },
      "outputs": [],
      "source": [
        "tweet_df=pd.concat([train_df,test_df])"
      ]
    },
    {
      "cell_type": "code",
      "execution_count": null,
      "metadata": {
        "id": "faeRVrPZuhgw"
      },
      "outputs": [],
      "source": [
        "tweet_df=tweet_df.sort_values(by=\"id\").reset_index(drop=True)"
      ]
    },
    {
      "cell_type": "code",
      "execution_count": null,
      "metadata": {
        "colab": {
          "base_uri": "https://localhost:8080/"
        },
        "id": "vuhh6tY_uhgw",
        "outputId": "2fc49aa7-0374-49f0-b89f-731ebfd1e62e"
      },
      "outputs": [],
      "source": [
        "check_duplicated(tweet_df)"
      ]
    },
    {
      "cell_type": "code",
      "execution_count": null,
      "metadata": {
        "colab": {
          "base_uri": "https://localhost:8080/"
        },
        "id": "r44Dwj8-uhgx",
        "outputId": "f9fa8dcc-4be2-4a31-9df9-c48e79790fc7"
      },
      "outputs": [],
      "source": [
        "tweet_df.columns"
      ]
    },
    {
      "cell_type": "code",
      "execution_count": null,
      "metadata": {
        "colab": {
          "base_uri": "https://localhost:8080/"
        },
        "id": "A44P0Gnmuhgx",
        "outputId": "345bc1c5-51a2-4ad9-d77d-a79d64ab19f8"
      },
      "outputs": [],
      "source": [
        "tweet_df.info()"
      ]
    },
    {
      "attachments": {},
      "cell_type": "markdown",
      "metadata": {
        "id": "6ZEOMZ2ruhgx"
      },
      "source": [
        "### 6. Với mỗi cột, các giá trị được phân bố như thế nào?"
      ]
    },
    {
      "attachments": {},
      "cell_type": "markdown",
      "metadata": {
        "id": "nMHe2vfGuhgy"
      },
      "source": [
        "#### Cột có kiểu dữ liệu dạng số, và phân bố:\n"
      ]
    },
    {
      "cell_type": "code",
      "execution_count": null,
      "metadata": {
        "colab": {
          "base_uri": "https://localhost:8080/",
          "height": 206
        },
        "id": "sTtafIL6uhgy",
        "outputId": "92b0c86f-5bba-4041-ba95-f2cafdbede0e"
      },
      "outputs": [],
      "source": [
        "numerical_cols = tweet_df[tweet_df.select_dtypes(exclude=['object']).columns]\n",
        "numerical_cols.head(5)"
      ]
    },
    {
      "attachments": {},
      "cell_type": "markdown",
      "metadata": {
        "id": "Qlorwh8zuhgy"
      },
      "source": [
        "- Với các cột dữ liệu dạng số ta sẽ tính % dữ liệu thiếu, min, max. Kết quả được lưu vào dataframe `nume_col_profiles_df`, với:\n",
        "    - `missing_ratio`: % dữ liệu thiếu.\n",
        "    - `min`: giá trị nhỏ nhất.\n",
        "    - `max`: giá trị lớn nhất."
      ]
    },
    {
      "cell_type": "code",
      "execution_count": null,
      "metadata": {
        "colab": {
          "base_uri": "https://localhost:8080/",
          "height": 143
        },
        "id": "8VuzmuNUuhg3",
        "outputId": "23dfc9d3-ed3f-4cc0-befd-739b94d7e104"
      },
      "outputs": [],
      "source": [
        "numerical_cols = tweet_df[tweet_df.select_dtypes(exclude=['object']).columns]\n",
        "\n",
        "def missing_ratio(c):\n",
        "    return  c.isna().sum()/len(c) * 100\n",
        "\n",
        "def min(c):\n",
        "    return c.min()\n",
        "\n",
        "def max(c):\n",
        "    return c.max()\n",
        "\n",
        "nume_col_profiles_df = numerical_cols.agg([missing_ratio, min, max])\n",
        "nume_col_profiles_df"
      ]
    },
    {
      "attachments": {},
      "cell_type": "markdown",
      "metadata": {
        "id": "5CJmFFmhuhg4"
      },
      "source": [
        "- Nhận xét:\n",
        "    - `id`: Không có dữ liệu thiếu, ID tweet nhỏ nhất là 0, lớn nhất là 10875.\n",
        "    - `target`: Có 30% dữ liệu thiếu tương ứng với các tweet chưa được gán nhãn ở `test_df`."
      ]
    },
    {
      "attachments": {},
      "cell_type": "markdown",
      "metadata": {
        "id": "b04uU4F8uhg4"
      },
      "source": [
        "#### Cột có kiểu dữ liệu phân loại, và phân bố:\n"
      ]
    },
    {
      "cell_type": "code",
      "execution_count": null,
      "metadata": {
        "colab": {
          "base_uri": "https://localhost:8080/",
          "height": 206
        },
        "id": "we4Cq0FTuhg5",
        "outputId": "68548612-824c-45ea-a9a1-f7868337e1a6"
      },
      "outputs": [],
      "source": [
        "object_cols = tweet_df[tweet_df.select_dtypes(include=['object']).columns]\n",
        "object_cols.head(5)"
      ]
    },
    {
      "attachments": {},
      "cell_type": "markdown",
      "metadata": {
        "id": "FtFNDxS1uhg5"
      },
      "source": [
        "- Với các cột categorical, ta tính tỉ lệ % dữ liệu thiếu, số lượng giá trị khác nhau, phân bố của các giá trị khác nhau. Kết quả được lưu vào dataframe `cate_col_profiles_df`, với:\n",
        "    - `missing_ratio`: % dữ liệu thiếu\n",
        "    - `num_diff_vals`: số lượng giá trị khác nhau <em>(không xét giá trị thiếu)</em>\n",
        "    - `ratio_diff_vals`: phân bố của các giá trị khác nhau <em>(không xét giá trị thiếu)</em>."
      ]
    },
    {
      "cell_type": "code",
      "execution_count": null,
      "metadata": {
        "colab": {
          "base_uri": "https://localhost:8080/",
          "height": 240
        },
        "id": "yMHTYOOfuhg5",
        "outputId": "9167b2db-e7fc-448e-91c0-87738c8dcda1"
      },
      "outputs": [],
      "source": [
        "def num_diff_vals(col):\n",
        "    return len(col.value_counts())\n",
        "\n",
        "def ratio_diff_vals(col):\n",
        "    return np.round(col.value_counts(normalize=True),2).to_dict()\n",
        "\n",
        "cate_col_profiles_df=object_cols.agg([missing_ratio,num_diff_vals,ratio_diff_vals])\n",
        "cate_col_profiles_df"
      ]
    },
    {
      "attachments": {},
      "cell_type": "markdown",
      "metadata": {
        "id": "ACRQwiVnuhg6"
      },
      "source": [
        "- Nhận xét:\n",
        "    - `location`: xuất hiện nhiều tweet không có địa chỉ đăng(33,45%), số lượng địa điểm lớn: 4521 địa điểm.\n",
        "    - `keyword`: vẫn xuất hiện các tweet không trích dẫn được từ khóa, số lượng không quá lớn: 221 cụm từ khóa.\n",
        "    - `text`: Không bị thiếu dữ liệu, nhưng số lượng nội dung chỉ là 10678 < 10875 (số lượng bài tweet). Có thể là do 1 số sự kiện/vấn đề nào đó."
      ]
    },
    {
      "attachments": {},
      "cell_type": "markdown",
      "metadata": {
        "id": "m7Ud-QdDuhg6"
      },
      "source": [
        "###  7. Có cột nào cần phải tiền xử lý hay không?\n"
      ]
    },
    {
      "attachments": {},
      "cell_type": "markdown",
      "metadata": {},
      "source": [
        "- Nhận xét:\n",
        "    - Qua kiểm tra dữ liệu, ta có thể thấy ở thuộc tính `location` có rất nhiều giá trị 4521 xấp xỉ bằng 1/2 tổng 2 tập `train_df` và `test_df` cộng lại. Thực hiện kiểm tra và xử lý về dạng chuẩn nhất có thể."
      ]
    },
    {
      "attachments": {},
      "cell_type": "markdown",
      "metadata": {},
      "source": [
        "#### 1. Xóa các địa điểm bị lỗi ký tự, xuất hiện ký tự đặc biệt nhiều:\n"
      ]
    },
    {
      "attachments": {},
      "cell_type": "markdown",
      "metadata": {},
      "source": [
        "Thực hiện xóa các hàm có ký tự đặc biệt nhiều hơn 1/4 so với độ dài của chuỗi. Và nếu trong cell đang xét có từ nào trên 2 ký tự thì thực hiện trả về *(Chỉ lấy 1 từ cuối)*"
      ]
    },
    {
      "cell_type": "code",
      "execution_count": null,
      "metadata": {
        "id": "26CzXVwpTEHF"
      },
      "outputs": [],
      "source": [
        "def del_special_string(c):\n",
        "  if not(c is np.nan):\n",
        "    special_char=re.sub('[\\w^\\s\\.]+' ,'', c)\n",
        "    scale=len(special_char)/len(c)\n",
        "    if scale > 1/4:\n",
        "      words=re.findall('[a-zA-Z]{2,}',c)\n",
        "      if len(words)>0:\n",
        "        return words[-1]\n",
        "      return np.nan\n",
        "    else:\n",
        "      return c\n",
        "  return np.nan"
      ]
    },
    {
      "attachments": {},
      "cell_type": "markdown",
      "metadata": {},
      "source": [
        "Thực hiện chạy hàm `del_special_string` cho tất cả các dữ liệu trong cột `location`"
      ]
    },
    {
      "cell_type": "code",
      "execution_count": null,
      "metadata": {
        "colab": {
          "base_uri": "https://localhost:8080/"
        },
        "id": "aXTEDjI3y2Q9",
        "outputId": "a8659795-3a7c-4b41-d77d-e9704ce6d755"
      },
      "outputs": [],
      "source": [
        "tweet_df.location.apply(del_special_string).str.strip().replace('',np.nan).unique().__len__()"
      ]
    },
    {
      "cell_type": "code",
      "execution_count": null,
      "metadata": {
        "id": "0pzBUZgerVJ_"
      },
      "outputs": [],
      "source": [
        "tweet_df.location=tweet_df.location.apply(del_special_string).str.strip().replace('',np.nan)"
      ]
    },
    {
      "attachments": {},
      "cell_type": "markdown",
      "metadata": {},
      "source": [
        "Đếm số lần địa điểm được sử dụng"
      ]
    },
    {
      "cell_type": "code",
      "execution_count": null,
      "metadata": {
        "id": "NxcPocfg5OwM"
      },
      "outputs": [],
      "source": [
        "location_count_df=tweet_df.location.value_counts().to_frame().reset_index().rename(columns={\"location\":\"counts\",\"index\":\"location\"})\n",
        "location_count_df"
      ]
    },
    {
      "cell_type": "code",
      "execution_count": null,
      "metadata": {
        "id": "gpnLhg9r_0WI"
      },
      "outputs": [],
      "source": [
        "location_array=location_count_df.location"
      ]
    },
    {
      "attachments": {},
      "cell_type": "markdown",
      "metadata": {},
      "source": [
        "#### 2.  Lọc các dữ liệu có tên thành phố hoặc tên quốc gia"
      ]
    },
    {
      "attachments": {},
      "cell_type": "markdown",
      "metadata": {},
      "source": [
        "##### Trích những tên thành phố và quốc gia *(đúng chuẩn)*"
      ]
    },
    {
      "attachments": {},
      "cell_type": "markdown",
      "metadata": {},
      "source": [
        "Tạo dataframe chứa thông tin: thành phố và quốc gia dựa trên các địa chỉ *(unique)*"
      ]
    },
    {
      "cell_type": "code",
      "execution_count": null,
      "metadata": {
        "id": "hDlnzzxPUGxK"
      },
      "outputs": [],
      "source": [
        "location_dict={\"city\":[],\"country\":[]}\n",
        "for location_str in location_array:\n",
        "\n",
        "  if isinstance(location_str, str):\n",
        "    places = GeoText(location_str)\n",
        "\n",
        "    if len(places.cities)>0:\n",
        "      if len(places.cities)>1:\n",
        "        result=', '.join(places.cities)\n",
        "        location_dict[\"city\"].append(result)\n",
        "      else :\n",
        "        location_dict[\"city\"].append(places.cities[0])\n",
        "    else :\n",
        "        location_dict[\"city\"].append(np.nan)\n",
        "\n",
        "    if len(places.countries)>0:\n",
        "      location_dict[\"country\"].append(places.countries[0])\n",
        "    else :\n",
        "      location_dict[\"country\"].append(np.nan)\n",
        "  else:\n",
        "    location_dict[\"city\"].append(np.nan)\n",
        "    location_dict[\"country\"].append(np.nan)\n",
        "  "
      ]
    },
    {
      "cell_type": "code",
      "execution_count": null,
      "metadata": {
        "colab": {
          "base_uri": "https://localhost:8080/",
          "height": 424
        },
        "id": "tHVldZlOCI8e",
        "outputId": "2cee253a-af61-446a-86f8-8208e974ef2a"
      },
      "outputs": [],
      "source": [
        "location_df=pd.DataFrame(location_dict)\n",
        "location_df"
      ]
    },
    {
      "attachments": {},
      "cell_type": "markdown",
      "metadata": {},
      "source": [
        "##### Điền tên quốc gia cho các tweet chỉ có tên thành phố"
      ]
    },
    {
      "cell_type": "code",
      "execution_count": null,
      "metadata": {
        "id": "yWASsR7JGfpW"
      },
      "outputs": [],
      "source": [
        "def get_country(city):\n",
        "  if not (city is np.nan):\n",
        "    geolocator = Nominatim(user_agent=\"my_app\")\n",
        "    location = geolocator.geocode(city)\n",
        "    if location:\n",
        "      return location.raw['display_name'].split(\",\")[-1].strip()\n",
        "    return np.nan\n",
        "  return np.nan"
      ]
    },
    {
      "cell_type": "code",
      "execution_count": null,
      "metadata": {
        "id": "EZ20opjsJbor"
      },
      "outputs": [],
      "source": [
        "location_fill_country=location_df[~(location_df.city.isna()) & (location_df.country.isna())]"
      ]
    },
    {
      "cell_type": "code",
      "execution_count": null,
      "metadata": {
        "colab": {
          "base_uri": "https://localhost:8080/",
          "height": 800
        },
        "id": "SV8nN3TRKj8Y",
        "outputId": "908e3044-677f-490a-d6c0-4dc6737182e9"
      },
      "outputs": [],
      "source": [
        "# Đã chạy và lưu kết quả vào file fill_country.csv\n",
        "countries = location_fill_country.city.iloc[:10].apply(get_country)\n",
        "\n",
        "location_df.loc[countries.index, 'country'] = countries.values\n",
        "location_df"
      ]
    },
    {
      "attachments": {},
      "cell_type": "markdown",
      "metadata": {},
      "source": [
        "Xuất file `fill_country.csv` sau khi đã điền: để thuận tiện cho các lần chạy sau"
      ]
    },
    {
      "cell_type": "code",
      "execution_count": null,
      "metadata": {
        "id": "Tw1may5IcBt-"
      },
      "outputs": [],
      "source": [
        "location_df[\"location\"]=pd.Series(location_array)"
      ]
    },
    {
      "cell_type": "code",
      "execution_count": null,
      "metadata": {
        "id": "ihlyqHHYbnV5"
      },
      "outputs": [],
      "source": [
        "# location_df.to_csv(\"fill_country.csv\",index=False,header=True)"
      ]
    },
    {
      "attachments": {},
      "cell_type": "markdown",
      "metadata": {},
      "source": [
        "Đọc lại dữ liệu từ `fill_country.csv`"
      ]
    },
    {
      "cell_type": "code",
      "execution_count": null,
      "metadata": {
        "id": "xRZwASBwKqqN"
      },
      "outputs": [],
      "source": [
        "location_df=pd.read_csv(\"fill_country.csv\")\n",
        "location_df"
      ]
    },
    {
      "attachments": {},
      "cell_type": "markdown",
      "metadata": {},
      "source": [
        "#### 3. Chuẩn hóa các thông tin bị trống cả tên thành phố và quốc gia"
      ]
    },
    {
      "attachments": {},
      "cell_type": "markdown",
      "metadata": {},
      "source": [
        "Lọc các tweet bị trống thông tin ở 2 cột thành phố và quốc gia"
      ]
    },
    {
      "cell_type": "code",
      "execution_count": null,
      "metadata": {
        "id": "Sx0fthuKR4Tx"
      },
      "outputs": [],
      "source": [
        "location_nan_all=location_df[(location_df.city.isna()) & (location_df.country.isna())]\n",
        "location_nan_all"
      ]
    },
    {
      "attachments": {},
      "cell_type": "markdown",
      "metadata": {},
      "source": [
        "Hàm trả về tên quốc gia cho location chưa chuẩn hóa *(nếu có đề cập)*"
      ]
    },
    {
      "cell_type": "code",
      "execution_count": null,
      "metadata": {
        "id": "gxcYa714uhg8"
      },
      "outputs": [],
      "source": [
        "def get_country_nan_all(c):\n",
        "  geolocator = Nominatim(user_agent='myencoder', timeout=10)\n",
        "  first = geolocator.geocode(c)\n",
        "  if first:\n",
        "    place=GeoText(first.address)\n",
        "    if len(place.countries)<1:\n",
        "      return first.raw['display_name'].split(\",\")[-1].strip()\n",
        "    else :\n",
        "      return place.countries[0]\n",
        "  else :\n",
        "    return np.nan"
      ]
    },
    {
      "cell_type": "code",
      "execution_count": null,
      "metadata": {},
      "outputs": [],
      "source": [
        "location_count_df[location_count_df.counts>1].counts.sum()"
      ]
    },
    {
      "attachments": {},
      "cell_type": "markdown",
      "metadata": {},
      "source": [
        "- Nhận xét:\n",
        "    - Thực hiện chuẩn hóa cho các địa điểm xuất hiện nhiều hơn 1 lần.\n",
        "    - Theo tìm hiểu để có thể lấy được tên các quốc gia chưa được chuẩn hóa trong ngôn ngữ tự nhiên. Nhóm quyết định xử dụng thư viện `geopy`: truy cập lấy từ API từ [OpenStreetMap Nominatim](https://nominatim.openstreermap.org). Cho phép lấy được cả các thông tin chưa được chuẩn hóa dựa trên gợi ý từ API. Tuy nhiên với điều khoản chỉ có thểm lấy 1 địa chỉ/s và bị giới hạn số lần yêu cầu. Nên khó khăn trong việc chuẩn hóa toàn bộ.\n"
      ]
    },
    {
      "cell_type": "code",
      "execution_count": null,
      "metadata": {},
      "outputs": [],
      "source": [
        "len_NanCountrySuggest=location_count_df[location_count_df.counts>1].shape[0]"
      ]
    },
    {
      "cell_type": "code",
      "execution_count": null,
      "metadata": {},
      "outputs": [],
      "source": [
        "location_nan_all[location_nan_all.index<len_NanCountrySuggest]"
      ]
    },
    {
      "cell_type": "code",
      "execution_count": null,
      "metadata": {},
      "outputs": [],
      "source": [
        "start_idx=0\n",
        "end_idx=100\n",
        "steps=100\n",
        "# n=location_nan_all[location_nan_all.index<len_NanCountrySuggest].shape[0]\n",
        "n=0\n",
        "while(True):\n",
        "    if end_idx>n:\n",
        "        countries = location_nan_all.location.iloc[start_idx:n].apply(get_country_nan_all)\n",
        "        location_df.loc[countries.index, 'country'] = countries.values\n",
        "        break\n",
        "    countries = location_nan_all.location.iloc[start_idx:end_idx].apply(get_country_nan_all)\n",
        "    location_df.loc[countries.index, 'country'] = countries.values\n",
        "    print(end_idx)\n",
        "    start_idx+=steps\n",
        "    end_idx+=steps"
      ]
    },
    {
      "cell_type": "code",
      "execution_count": null,
      "metadata": {},
      "outputs": [],
      "source": [
        "# location_df.to_csv(\"fill_location.csv\",index=False,header=True)"
      ]
    },
    {
      "cell_type": "code",
      "execution_count": null,
      "metadata": {},
      "outputs": [],
      "source": [
        "location_nomalize=pd.read_csv(\"fill_location.csv\")"
      ]
    },
    {
      "cell_type": "code",
      "execution_count": null,
      "metadata": {},
      "outputs": [],
      "source": [
        "location_nomalize"
      ]
    },
    {
      "attachments": {},
      "cell_type": "markdown",
      "metadata": {},
      "source": [
        "<a name=\"2\"></a>\n",
        "# <font color=#0404B4> B. Khám phá dữ liệu</font>\n"
      ]
    },
    {
      "attachments": {},
      "cell_type": "markdown",
      "metadata": {},
      "source": [
        "#### Note: T chỉ mới chuẩn hóa ở các địa chỉ unique nên trong toàn bộ dữ liệu muốn thay đổi là phải replace dựa trên location của dataframe location_nomalize. "
      ]
    },
    {
      "attachments": {},
      "cell_type": "markdown",
      "metadata": {},
      "source": [
        "### Case 1: tìm ra các target bằng 1 hay có những keyword nào?"
      ]
    },
    {
      "attachments": {},
      "cell_type": "markdown",
      "metadata": {},
      "source": [
        "**Bước 1:** Tiền xử lý dữ liệu\n",
        "Ta tiến hành lọc ra các sample có keyword không phải NaN và có target bằng 1 (disater)."
      ]
    },
    {
      "cell_type": "code",
      "execution_count": null,
      "metadata": {},
      "outputs": [],
      "source": [
        "case1Train = train_df\n",
        "# case1Train.head()\n",
        "trainTarget1= case1Train[case1Train['keyword'].notnull()]\n",
        "trainTarget1= trainTarget1[trainTarget1['target']==1]\n",
        "trainTarget1.head()\n",
        "\n",
        "# trainTarget1.dtypes\n",
        "# trainTarget1.tail()\n"
      ]
    },
    {
      "attachments": {},
      "cell_type": "markdown",
      "metadata": {},
      "source": [
        "**Bước 2:** Trực quan hóa bằng word cloud"
      ]
    },
    {
      "cell_type": "code",
      "execution_count": null,
      "metadata": {},
      "outputs": [],
      "source": [
        "# Assuming your data is in a pandas DataFrame called 'trainTarget1'\n",
        "keywords = trainTarget1['keyword'].dropna().tolist()\n",
        "\n",
        "# Concatenate the keywords into a single string\n",
        "text = ' '.join(keywords)\n",
        "\n",
        "# Create a word cloud object\n",
        "wordcloud = WordCloud(width=800, height=400, background_color='white').generate(text)\n",
        "\n",
        "# Plot the word cloud\n",
        "plt.figure(figsize=(16, 9))\n",
        "plt.imshow(wordcloud, interpolation='bilinear')\n",
        "plt.axis('off')\n",
        "plt.show()"
      ]
    },
    {
      "attachments": {},
      "cell_type": "markdown",
      "metadata": {},
      "source": [
        "**Bước 3:** Để có thể quan sát rõ hơn về số lần keyword xuất hiện, ta thêm 1 bước trực quan hóa dữ liệu bằng biểu đồ cột. Trong đó trục x thể hiện `keyword`, trục y thể hiện `số lần` keyword đó xuất hiện"
      ]
    },
    {
      "cell_type": "code",
      "execution_count": null,
      "metadata": {},
      "outputs": [],
      "source": [
        "keywords_counts = trainTarget1['keyword'].value_counts().sort_values(ascending=False).head(10)\n",
        "\n",
        "# Plotting the bar chart\n",
        "plt.figure(figsize=(16, 6))\n",
        "keywords_counts.plot(kind='bar')\n",
        "plt.xlabel('Keyword',fontsize=5)\n",
        "plt.ylabel('Frequency')\n",
        "plt.title('Keyword Frequency')\n",
        "plt.xticks(rotation=45,fontsize=8)\n",
        "plt.show()"
      ]
    },
    {
      "attachments": {},
      "cell_type": "markdown",
      "metadata": {},
      "source": [
        "***Nhận xét***:\n",
        "- Quan sát biểu đồ, số lần xuất hiện của mỗi keyword ở top 10 khá đồng đều, không có sự chênh lệch nhiều."
      ]
    },
    {
      "attachments": {},
      "cell_type": "markdown",
      "metadata": {},
      "source": [
        "### Case 2: Liệu có những mối quan hệ nào giữa `location` và cột `target`?"
      ]
    },
    {
      "attachments": {},
      "cell_type": "markdown",
      "metadata": {},
      "source": [
        "**Import thư viện**"
      ]
    },
    {
      "cell_type": "code",
      "execution_count": null,
      "metadata": {},
      "outputs": [],
      "source": [
        "import plotly.graph_objs as go\n",
        "from plotly.offline import iplot"
      ]
    },
    {
      "attachments": {},
      "cell_type": "markdown",
      "metadata": {},
      "source": [
        "**Bước 1:** Tiền xử lý dữ liệu"
      ]
    },
    {
      "attachments": {},
      "cell_type": "markdown",
      "metadata": {},
      "source": [
        "Vì cột `location` có quá nhiều dữ liệu thiếu nên ta xử lý bằng cách phân ra, địa điểm đã biết và địa điểm chưa được xác định."
      ]
    },
    {
      "cell_type": "code",
      "execution_count": null,
      "metadata": {},
      "outputs": [],
      "source": [
        "train_ex=train_df.copy()\n",
        "train_ex['keyword']=train_ex['keyword'].fillna('Unknown')\n",
        "train_ex['location']=train_ex['location'].fillna('Unknown')\n",
        "train_ex['location']=train_ex['location'].apply(lambda x: 'Known' if x != 'Unknown' else x)\n",
        "\n",
        "location_count=train_ex['location'].value_counts()\n",
        "print(location_count)\n",
        "location=location_count.keys()\n",
        "lcount=location_count.values"
      ]
    },
    {
      "attachments": {},
      "cell_type": "markdown",
      "metadata": {},
      "source": [
        "**Bước 2:** Trực quan bằng `donut chart`"
      ]
    },
    {
      "attachments": {},
      "cell_type": "markdown",
      "metadata": {},
      "source": [
        "`Donut chart` rất phù hợp để quan sát tỉ lệ tweet có địa điểm đã biết và chưa biết."
      ]
    },
    {
      "cell_type": "code",
      "execution_count": null,
      "metadata": {},
      "outputs": [],
      "source": [
        "pie_chart1=go.Pie(labels=location,values=lcount,hole=0.6)\n",
        "\n",
        "my_layout=go.Layout(title='Biểu đồ biểu diễn tỉ lệ mức độ nghiêm trọng theo từng kiểu địa điểm',\n",
        "                    height=500,width=800)\n",
        "\n",
        "iplot({'data':pie_chart1, 'layout':my_layout})\n"
      ]
    },
    {
      "attachments": {},
      "cell_type": "markdown",
      "metadata": {},
      "source": [
        "***Nhận xét***:\n",
        "- Quan sát biểu đồ, ta thấy lượng địa điểm chưa biết chiếm 1/3 so với tổng thể.\n",
        "> Dữ liệu thiếu khá nhiều, cần trực quan kỹ hơn để đưa ra nhận xét. Ta xác định số lượng địa điểm biết và chưa biết dựa trên 2 nhóm tweet 1 và 0.\n"
      ]
    },
    {
      "attachments": {},
      "cell_type": "markdown",
      "metadata": {},
      "source": [
        "**Bước 3:** Tính các tham số cần thiết cho việc trực quan."
      ]
    },
    {
      "cell_type": "code",
      "execution_count": null,
      "metadata": {},
      "outputs": [],
      "source": [
        "unknown=train_ex.loc[train_ex['location']=='Unknown']['target'].value_counts()\n",
        "known=train_ex.loc[train_ex['location']=='Known']['target'].value_counts()\n",
        "utarget=unknown.keys()\n",
        "ucount=unknown.values\n",
        "ktarget=known.keys()\n",
        "kcount=known.values\n",
        "\n",
        "target_count=train_ex['target'].value_counts()\n",
        "target=target_count.keys()\n",
        "tcount=target_count.values\n",
        "total=sum(tcount)"
      ]
    },
    {
      "attachments": {},
      "cell_type": "markdown",
      "metadata": {},
      "source": [
        "**Bước 4**: Trực quan bằng `Nest chart`."
      ]
    },
    {
      "attachments": {},
      "cell_type": "markdown",
      "metadata": {},
      "source": [
        "`Nest chart` được dùng khi cần các mối quan hệ cha và con trong biểu đồ."
      ]
    },
    {
      "cell_type": "code",
      "execution_count": null,
      "metadata": {},
      "outputs": [],
      "source": [
        "import plotly.graph_objs as go\n",
        "\n",
        "data = [\n",
        "go.Pie(values=[tcount[1],tcount[0]],\n",
        "    labels=[1,0],\n",
        "    domain={'x':[0.2,0.8], 'y':[0.1,0.9]},\n",
        "    hole=0.5,\n",
        "    direction='clockwise',\n",
        "    sort=False,\n",
        "    marker={'colors':['#CB4335','#2E86C1']},\n",
        "    ),\n",
        "   \n",
        "    go.Pie(values=[kcount[1],ucount[1],kcount[0],ucount[0]],\n",
        "    labels=['Known-1','Unknown-1','Known-0','Unknown-0'],\n",
        "    domain={'x':[0.1,0.9], 'y':[0,1]},\n",
        "    hole=0.75,\n",
        "    direction='clockwise',\n",
        "    sort=False,\n",
        "    marker={'colors':['#EC7063','#F1948A','#5DADE2','#85C1E9']},\n",
        "    showlegend=False)]\n",
        "my_layout = go.Layout(title='Biểu đồ biểu diễn tỉ lệ địa điểm có thông tin và chưa có thông tin dựa trên tweet 0 và 1',\n",
        "                      height=500, width=800,\n",
        "                      annotations=[{\n",
        "                          'font': {\n",
        "                              'size': 20\n",
        "                          },\n",
        "                          'showarrow': False,\n",
        "                          'text':f'{total}',\n",
        "                          'hovertext': f'Total: {total}',\n",
        "                          'x': 0.5,\n",
        "                          'y': 0.5,\n",
        "                        \n",
        "                      }])\n",
        "\n",
        "fig = go.Figure(data=data, layout=my_layout)\n",
        "\n",
        "iplot(fig)"
      ]
    },
    {
      "attachments": {},
      "cell_type": "markdown",
      "metadata": {},
      "source": [
        "***Nhận xét***:\n",
        "- Với tweet 1 và tweet 0, lượng địa điểm đã biết có xu hướng cao hơn khoảng gấp đôi so với địa điểm chưa biết. Điều này cũng khá tương đồng với tỉ lệ khi trực quan tổng thể.\n",
        "> Có thể kết luận rằng, số lượng địa điểm đã biết và chưa biết hầu như không có liên hệ với lượng tweet o và 1. \n",
        ">> Thử liên hệ cột `location` với cột `target` theo cách khác với case 3."
      ]
    },
    {
      "attachments": {},
      "cell_type": "markdown",
      "metadata": {},
      "source": [
        "### Case 3: Lúc tìm được `location` hay xảy ra thảm hoạ, biến cố, xem có các `keyword` là gì?"
      ]
    },
    {
      "attachments": {},
      "cell_type": "markdown",
      "metadata": {},
      "source": [
        "**Bước 1:** Tiền xử lý dữ liệu\n",
        "Ta lọc ra các sample có `keyword` khác `NaN`, `target` bằng `1` và `location` khác `NaN`"
      ]
    },
    {
      "cell_type": "code",
      "execution_count": null,
      "metadata": {},
      "outputs": [],
      "source": [
        "case3Train = train_df\n",
        "# case3Train.head()\n",
        "trainTarget3= case3Train[case3Train['keyword'].notnull()]\n",
        "trainTarget3= trainTarget3[trainTarget3['target']==1]\n",
        "trainTarget3= trainTarget3[trainTarget3['location'].notnull()]\n",
        "trainTarget3.head()\n",
        "\n",
        "# trainTarget1.dtypes\n",
        "# trainTarget1.tail()\n"
      ]
    },
    {
      "attachments": {},
      "cell_type": "markdown",
      "metadata": {},
      "source": [
        "**Bước 2:** Ta tiến hành trực quan bằng biểu đồ cột, trong đó trục x thể hiện các `location`, trục y thể hiện `số lần` mà location đó xảy ra disater. Sắp xếp giảm dần ta được biểu đồ như bên dưới"
      ]
    },
    {
      "cell_type": "code",
      "execution_count": null,
      "metadata": {},
      "outputs": [],
      "source": [
        "keywords_counts = trainTarget3['location'].value_counts().sort_values(ascending=False).head(10)\n",
        "\n",
        "# Plotting the bar chart\n",
        "plt.figure(figsize=(10, 6))\n",
        "keywords_counts.plot(kind='bar')\n",
        "plt.xlabel('Keyword',fontsize=5)\n",
        "plt.ylabel('Frequency')\n",
        "plt.title('Keyword Frequency')\n",
        "plt.xticks(rotation=45,fontsize=8)\n",
        "plt.show()"
      ]
    },
    {
      "attachments": {},
      "cell_type": "markdown",
      "metadata": {},
      "source": [
        "***Nhận xét***:\n",
        "- Ta dễ dàng thấy được, USA là nơi xảy ra thảm họa nhiều nhất, với số lượng vượt trội so với các quốc gia khác trong top 10.\n",
        "> Ta tiến hành phân tích các keyword có liên quan đến USA."
      ]
    },
    {
      "attachments": {},
      "cell_type": "markdown",
      "metadata": {},
      "source": [
        "**Bước 4**: Từ dữ liệu đã lọc ở bước trên, ta thêm 1 bước lấy ra các sample có `location` là `USA`. Sau đó trực quan bằng biểu đồ cột, trục x thể hiện `keyword`, trục y thể hiện `số lần` keyword đó xuất hiện"
      ]
    },
    {
      "cell_type": "code",
      "execution_count": null,
      "metadata": {},
      "outputs": [],
      "source": [
        "trainTarget3= trainTarget3[trainTarget3['location']==\"USA\"]\n",
        "\n",
        "keywords_counts = trainTarget3['keyword'].value_counts().sort_values(ascending=False).head(10)\n",
        "\n",
        "# Plotting the bar chart\n",
        "plt.figure(figsize=(10, 6))\n",
        "keywords_counts.plot(kind='bar')\n",
        "plt.xlabel('Keyword',fontsize=5)\n",
        "plt.ylabel('Frequency')\n",
        "plt.title('Keyword Frequency')\n",
        "plt.xticks(rotation=45,fontsize=8)\n",
        "plt.show()\n"
      ]
    },
    {
      "attachments": {},
      "cell_type": "markdown",
      "metadata": {},
      "source": [
        "**Nhận xét:**\n",
        "- Từ biểu đồ trên, ta dễ dàng nhận thấy `sandStorm` chiếm ưu thế hơn hẳn trong top 10, với số lượng vượt trội."
      ]
    },
    {
      "attachments": {},
      "cell_type": "markdown",
      "metadata": {},
      "source": [
        "> Từ phân tích trên có thể rút ra được, nếu là USA thì khả năng xảy ra thảm họa \"sandstorm\" là khá cao."
      ]
    },
    {
      "attachments": {},
      "cell_type": "markdown",
      "metadata": {},
      "source": [
        "### Case 4: Thống kê cột `text` theo số lượng chữ trên dòng, theo câu để kiểm tra có điểm bất thường nào không?\n",
        "\n"
      ]
    },
    {
      "attachments": {},
      "cell_type": "markdown",
      "metadata": {},
      "source": [
        "**Import thư viện**"
      ]
    },
    {
      "cell_type": "code",
      "execution_count": null,
      "metadata": {},
      "outputs": [],
      "source": [
        "import nltk\n"
      ]
    },
    {
      "attachments": {},
      "cell_type": "markdown",
      "metadata": {},
      "source": [
        "**Bước 1**: Tạo cột đếm số lượng chữ của cột `text`."
      ]
    },
    {
      "cell_type": "code",
      "execution_count": null,
      "metadata": {},
      "outputs": [],
      "source": [
        "def word_count(sample):\n",
        "    sample_list=sample.split()\n",
        "    return len(sample_list)"
      ]
    },
    {
      "cell_type": "code",
      "execution_count": null,
      "metadata": {},
      "outputs": [],
      "source": [
        "train_df['word_count']=train_df['text'].apply(word_count)"
      ]
    },
    {
      "attachments": {},
      "cell_type": "markdown",
      "metadata": {},
      "source": [
        "**Bước 2:** Tạo cột số lượng chữ và số lượng chữ trung bình của cột `text`."
      ]
    },
    {
      "cell_type": "code",
      "execution_count": null,
      "metadata": {},
      "outputs": [],
      "source": [
        "train_df['length']=train_df['text'].str.len()\n",
        "train_df['mean_word_length']=train_df['text'].map(lambda rev: np.mean([len(word)for word in rev.split()]))"
      ]
    },
    {
      "attachments": {},
      "cell_type": "markdown",
      "metadata": {},
      "source": [
        "**Bước 3**: Tính số lượng chữ trung bình trên câu."
      ]
    },
    {
      "cell_type": "code",
      "execution_count": null,
      "metadata": {},
      "outputs": [],
      "source": [
        "train_df['mean_sentence_length']=train_df['text'].map(lambda rev: np.mean([len(sentence)for sentence in nltk.tokenize.sent_tokenize(rev)]))"
      ]
    },
    {
      "attachments": {},
      "cell_type": "markdown",
      "metadata": {},
      "source": [
        "**Bước 4**: Trực quan bằng `line chart` và `boxplot`."
      ]
    },
    {
      "attachments": {},
      "cell_type": "markdown",
      "metadata": {},
      "source": [
        "- `Boxplot` phù hợp để kiểm tra độ phân bố dữ liệu của các cột số lượng từ, độ dài, số lượng từ trung bình và số lượng từ trung bình trên câu.\n",
        "- `Line chart` phù hợp để kiểm tra biến động, giúp thể hiện rõ được biến động của lượng tweet 0 và 1 dựa trên số lượng từ, độ dài, số lượng từ trung bình và số lượng từ trung bình trên câu."
      ]
    },
    {
      "cell_type": "code",
      "execution_count": null,
      "metadata": {},
      "outputs": [],
      "source": [
        "def visualize(col):\n",
        "    \n",
        "    fig, axes = plt.subplots(nrows=1, ncols=2, figsize=(12, 6))  # Create a figure with a larger size\n",
        "    \n",
        "    sns.boxplot(y=train_df[col], hue=train_df['target'], ax=axes[0])  # Plot the boxplot on the left subplot\n",
        "    axes[0].set_ylabel(col, labelpad=12.5)\n",
        "    \n",
        "    sns.kdeplot(train_df[col], hue=train_df['target'], ax=axes[1])  # Plot the kdeplot on the right subplot\n",
        "    axes[1].legend(train_df['target'].unique())\n",
        "    axes[1].set_xlabel('')\n",
        "    axes[1].set_ylabel('')\n",
        "    plt.show()"
      ]
    },
    {
      "cell_type": "code",
      "execution_count": null,
      "metadata": {},
      "outputs": [],
      "source": [
        "features = train_df.columns.tolist()[5:]\n",
        "for feature in features:\n",
        "    visualize(feature)"
      ]
    },
    {
      "attachments": {},
      "cell_type": "markdown",
      "metadata": {},
      "source": [
        "***Nhận xét***:\n",
        "- \n",
        "-\n",
        "- \n",
        "-  "
      ]
    },
    {
      "attachments": {},
      "cell_type": "markdown",
      "metadata": {},
      "source": [
        "### Case 5: Tương quan 2 cột `keyword` và `text` để tìm ra mối liên hệ với tweet 1."
      ]
    },
    {
      "attachments": {},
      "cell_type": "markdown",
      "metadata": {},
      "source": [
        "**Download thư viện**"
      ]
    },
    {
      "cell_type": "code",
      "execution_count": null,
      "metadata": {},
      "outputs": [],
      "source": [
        "# !pip install WordCloud"
      ]
    },
    {
      "attachments": {},
      "cell_type": "markdown",
      "metadata": {},
      "source": [
        "**Import thư viện**"
      ]
    },
    {
      "cell_type": "code",
      "execution_count": null,
      "metadata": {},
      "outputs": [],
      "source": [
        "from wordcloud import WordCloud,STOPWORDS \n",
        "from PIL import Image"
      ]
    },
    {
      "attachments": {},
      "cell_type": "markdown",
      "metadata": {},
      "source": [
        "**Bước 1**: Trực quan bằng `wordcloud` những dòng có tweet 1."
      ]
    },
    {
      "cell_type": "code",
      "execution_count": null,
      "metadata": {},
      "outputs": [],
      "source": [
        "fpath=(\"GothamMedium.ttf\")\n",
        "\n",
        "mask = np.array(Image.open(\"realcloud.png\"))\n",
        "mask=~mask\n",
        "train_text=train_df.loc[train_df['target']==1].text\n",
        "train_text=list(train_text.values)\n",
        "text = \" \".join(cat for cat in train_text)\n",
        "word_cloud = WordCloud(stopwords = STOPWORDS,\n",
        "                        mask = mask, \n",
        "                        background_color = 'white',\n",
        "                        contour_width=15,\n",
        "                        contour_color='slateblue',\n",
        "                        font_path=fpath,\n",
        "                        max_font_size=600,\n",
        "                        max_words=200,\n",
        "                        width = mask.shape[0],\n",
        "                        height = mask.shape[1],\n",
        "                        colormap='magma'\n",
        "                        )\n",
        "word_cloud.generate(text)"
      ]
    },
    {
      "cell_type": "code",
      "execution_count": null,
      "metadata": {},
      "outputs": [],
      "source": [
        "# Display the generated Word Cloud\n",
        "plt.figure(figsize=(16,9),facecolor='lightblue')\n",
        "plt.imshow(word_cloud, interpolation='bilinear')\n",
        "plt.axis(\"off\")\n",
        "plt.show()"
      ]
    },
    {
      "attachments": {},
      "cell_type": "markdown",
      "metadata": {},
      "source": [
        "**Bước 2**: Tìm những `keyword` thường xuất hiện cột `text`trên tweet 1."
      ]
    },
    {
      "cell_type": "code",
      "execution_count": null,
      "metadata": {},
      "outputs": [],
      "source": [
        "word_list = word_cloud.process_text(text)\n",
        "\n",
        "word_df={}\n",
        "word_df['word']=word_list.keys()\n",
        "word_df['count']=word_list.values()\n",
        "word_df=pd.DataFrame(word_df)\n",
        "word_df=word_df.sort_values('count',ascending=False).head(5000)\n",
        "keywords_counts = trainTarget1['keyword'].value_counts().sort_values(ascending=False).head(30)\n",
        "k=[]\n",
        "for i in keywords_counts.keys():\n",
        "    word_check=word_df.loc[word_df['word'].str.contains(i)]\n",
        "    if word_check.shape[0]!=0:\n",
        "        k.append(i)\n",
        "k=np.array(k)\n",
        "k=keywords_counts.keys()\n",
        "k"
      ]
    },
    {
      "attachments": {},
      "cell_type": "markdown",
      "metadata": {},
      "source": [
        "**Bước 3**: Đếm số lượng tweet 0 và 1 dựa trên các keyword."
      ]
    },
    {
      "cell_type": "code",
      "execution_count": null,
      "metadata": {},
      "outputs": [],
      "source": [
        "t0=0\n",
        "t1=1\n",
        "for i in k:\n",
        "    target_counts=train_ex.loc[train_ex['text'].str.contains(i)].target.value_counts()\n",
        "\n",
        "    for j in target_counts.keys():\n",
        "        if j == 0:t0+=target_counts[j]\n",
        "        else:t1+=target_counts[j]\n",
        "print(t0)\n",
        "print(t1)"
      ]
    },
    {
      "attachments": {},
      "cell_type": "markdown",
      "metadata": {},
      "source": [
        "**Bước 4:** Trực quan bằng `Donut chart`"
      ]
    },
    {
      "attachments": {},
      "cell_type": "markdown",
      "metadata": {},
      "source": [
        "`Donut chart` phù hợp để thể hiện tỉ lệ số lượng tweet 0 và 1 dựa trên các `keyword` đã tìm được."
      ]
    },
    {
      "cell_type": "code",
      "execution_count": null,
      "metadata": {},
      "outputs": [],
      "source": [
        "target=[1,0]\n",
        "count=[t1,t0]\n",
        "\n",
        "pie_chart=go.Pie(labels=target,values=count,hole=0.5,pull=[0, .2])\n",
        "\n",
        "my_layout=go.Layout(title='Biểu đồ biểu diễn tỉ lệ mức độ nghiêm trọng dựa trên các từ đã tương quan',\n",
        "                    height=500,width=800)\n",
        "iplot({'data':pie_chart,'layout':my_layout})\n"
      ]
    },
    {
      "attachments": {},
      "cell_type": "markdown",
      "metadata": {},
      "source": [
        "***Nhận xét:***\n",
        "- Tỉ lệ tweet 1 cao hơn tweet 0 cao hơn rất nhiều dựa trên các `keyword` kiếm được.\n",
        "> Nhưng liệu có bị `overfit` không khi thực hiện như vậy. Tiếp theo, phần `model` sẽ tiến hành tìm hiểu xem."
      ]
    },
    {
      "attachments": {},
      "cell_type": "markdown",
      "metadata": {},
      "source": [
        "### Model"
      ]
    },
    {
      "attachments": {},
      "cell_type": "markdown",
      "metadata": {},
      "source": []
    }
  ],
  "metadata": {
    "colab": {
      "provenance": []
    },
    "kernelspec": {
      "display_name": "min_ds-env",
      "language": "python",
      "name": "python3"
    },
    "language_info": {
      "codemirror_mode": {
        "name": "ipython",
        "version": 3
      },
      "file_extension": ".py",
      "mimetype": "text/x-python",
      "name": "python",
      "nbconvert_exporter": "python",
      "pygments_lexer": "ipython3",
      "version": "3.9.12"
    },
    "orig_nbformat": 4
  },
  "nbformat": 4,
  "nbformat_minor": 0
}
