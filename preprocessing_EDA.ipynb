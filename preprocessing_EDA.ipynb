{
 "cells": [
  {
   "attachments": {},
   "cell_type": "markdown",
   "metadata": {
    "id": "qDT4iAcVuhgZ"
   },
   "source": [
    "# <font color=#0404B4>**SEMINAR - PHÂN TÍCH DỮ LIỆU THÔNG MINH** </font>\n",
    "\n",
    "### <font color=#0404B4> Bảng thành viên nhóm </font>\n",
    "|<center><div style=\"width:150px\">MSSV</div><center>|<center><div style=\"width:290px\">Họ và tên</div><center>|\n",
    "|---------- |:-------------:|\n",
    "| <center>20120032<center>  | <center>Phan Trường An<center> |\n",
    "| <center>20120037<center>  | <center>Trần Thị Minh Anh<center> |\n",
    "| <center>20120041<center>  | <center>Trần Kim Bảo<center> |\n",
    "| <center>20120053<center>  |   <center>Nguyễn Thành Đạt<center>   | \n",
    "| <center>20120071<center>  |<center>Nguyễn Thị Bích Hà<center> |\n",
    "| <center>20120095<center>  | <center>Ngô Quang Hưng<center> |"
   ]
  },
  {
   "attachments": {},
   "cell_type": "markdown",
   "metadata": {
    "id": "iDkvIYEIuhgg"
   },
   "source": [
    "# <font color=#0404B4>Import thư viện</font>"
   ]
  },
  {
   "cell_type": "code",
   "execution_count": 1,
   "metadata": {
    "id": "wCLh27hEuhgh"
   },
   "outputs": [],
   "source": [
    "import pandas as pd\n",
    "import numpy as np\n",
    "import matplotlib.pyplot as plt\n",
    "import seaborn as sns\n",
    "import re\n",
    "sns.set_theme()\n",
    "pd.set_option(\"display.max_colwidth\", 250)"
   ]
  },
  {
   "cell_type": "code",
   "execution_count": 2,
   "metadata": {
    "colab": {
     "base_uri": "https://localhost:8080/"
    },
    "id": "QmCV85Q-1urq",
    "outputId": "f35d9593-32af-4344-868c-bb7a5c848e2b"
   },
   "outputs": [
    {
     "name": "stdout",
     "output_type": "stream",
     "text": [
      "Requirement already satisfied: locationtagger in /home/echkidieu/miniconda3/envs/min_ds-env/lib/python3.8/site-packages (0.0.1)\n",
      "Requirement already satisfied: nltk in /home/echkidieu/miniconda3/envs/min_ds-env/lib/python3.8/site-packages (from locationtagger) (3.8.1)\n",
      "Requirement already satisfied: spacy in /home/echkidieu/miniconda3/envs/min_ds-env/lib/python3.8/site-packages (from locationtagger) (3.5.3)\n",
      "Requirement already satisfied: newspaper3k in /home/echkidieu/miniconda3/envs/min_ds-env/lib/python3.8/site-packages (from locationtagger) (0.2.8)\n",
      "Requirement already satisfied: pycountry in /home/echkidieu/miniconda3/envs/min_ds-env/lib/python3.8/site-packages (from locationtagger) (22.3.5)\n",
      "Requirement already satisfied: beautifulsoup4>=4.4.1 in /home/echkidieu/miniconda3/envs/min_ds-env/lib/python3.8/site-packages (from newspaper3k->locationtagger) (4.12.2)\n",
      "Requirement already satisfied: Pillow>=3.3.0 in /home/echkidieu/miniconda3/envs/min_ds-env/lib/python3.8/site-packages (from newspaper3k->locationtagger) (9.5.0)\n",
      "Requirement already satisfied: PyYAML>=3.11 in /home/echkidieu/miniconda3/envs/min_ds-env/lib/python3.8/site-packages (from newspaper3k->locationtagger) (6.0)\n",
      "Requirement already satisfied: cssselect>=0.9.2 in /home/echkidieu/miniconda3/envs/min_ds-env/lib/python3.8/site-packages (from newspaper3k->locationtagger) (1.2.0)\n",
      "Requirement already satisfied: lxml>=3.6.0 in /home/echkidieu/miniconda3/envs/min_ds-env/lib/python3.8/site-packages (from newspaper3k->locationtagger) (4.9.2)\n",
      "Requirement already satisfied: requests>=2.10.0 in /home/echkidieu/miniconda3/envs/min_ds-env/lib/python3.8/site-packages (from newspaper3k->locationtagger) (2.30.0)\n",
      "Requirement already satisfied: feedparser>=5.2.1 in /home/echkidieu/miniconda3/envs/min_ds-env/lib/python3.8/site-packages (from newspaper3k->locationtagger) (6.0.10)\n",
      "Requirement already satisfied: tldextract>=2.0.1 in /home/echkidieu/miniconda3/envs/min_ds-env/lib/python3.8/site-packages (from newspaper3k->locationtagger) (3.4.1)\n",
      "Requirement already satisfied: feedfinder2>=0.0.4 in /home/echkidieu/miniconda3/envs/min_ds-env/lib/python3.8/site-packages (from newspaper3k->locationtagger) (0.0.4)\n",
      "Requirement already satisfied: jieba3k>=0.35.1 in /home/echkidieu/miniconda3/envs/min_ds-env/lib/python3.8/site-packages (from newspaper3k->locationtagger) (0.35.1)\n",
      "Requirement already satisfied: python-dateutil>=2.5.3 in /home/echkidieu/miniconda3/envs/min_ds-env/lib/python3.8/site-packages (from newspaper3k->locationtagger) (2.8.2)\n",
      "Requirement already satisfied: tinysegmenter==0.3 in /home/echkidieu/miniconda3/envs/min_ds-env/lib/python3.8/site-packages (from newspaper3k->locationtagger) (0.3)\n",
      "Requirement already satisfied: click in /home/echkidieu/miniconda3/envs/min_ds-env/lib/python3.8/site-packages (from nltk->locationtagger) (8.1.3)\n",
      "Requirement already satisfied: joblib in /home/echkidieu/miniconda3/envs/min_ds-env/lib/python3.8/site-packages (from nltk->locationtagger) (1.2.0)\n",
      "Requirement already satisfied: regex>=2021.8.3 in /home/echkidieu/miniconda3/envs/min_ds-env/lib/python3.8/site-packages (from nltk->locationtagger) (2023.6.3)\n",
      "Requirement already satisfied: tqdm in /home/echkidieu/miniconda3/envs/min_ds-env/lib/python3.8/site-packages (from nltk->locationtagger) (4.65.0)\n",
      "Requirement already satisfied: setuptools in /home/echkidieu/miniconda3/envs/min_ds-env/lib/python3.8/site-packages (from pycountry->locationtagger) (67.7.2)\n",
      "Requirement already satisfied: spacy-legacy<3.1.0,>=3.0.11 in /home/echkidieu/miniconda3/envs/min_ds-env/lib/python3.8/site-packages (from spacy->locationtagger) (3.0.12)\n",
      "Requirement already satisfied: spacy-loggers<2.0.0,>=1.0.0 in /home/echkidieu/miniconda3/envs/min_ds-env/lib/python3.8/site-packages (from spacy->locationtagger) (1.0.4)\n",
      "Requirement already satisfied: murmurhash<1.1.0,>=0.28.0 in /home/echkidieu/miniconda3/envs/min_ds-env/lib/python3.8/site-packages (from spacy->locationtagger) (1.0.9)\n",
      "Requirement already satisfied: cymem<2.1.0,>=2.0.2 in /home/echkidieu/miniconda3/envs/min_ds-env/lib/python3.8/site-packages (from spacy->locationtagger) (2.0.7)\n",
      "Requirement already satisfied: preshed<3.1.0,>=3.0.2 in /home/echkidieu/miniconda3/envs/min_ds-env/lib/python3.8/site-packages (from spacy->locationtagger) (3.0.8)\n",
      "Requirement already satisfied: thinc<8.2.0,>=8.1.8 in /home/echkidieu/miniconda3/envs/min_ds-env/lib/python3.8/site-packages (from spacy->locationtagger) (8.1.10)\n",
      "Requirement already satisfied: wasabi<1.2.0,>=0.9.1 in /home/echkidieu/miniconda3/envs/min_ds-env/lib/python3.8/site-packages (from spacy->locationtagger) (1.1.1)\n",
      "Requirement already satisfied: srsly<3.0.0,>=2.4.3 in /home/echkidieu/miniconda3/envs/min_ds-env/lib/python3.8/site-packages (from spacy->locationtagger) (2.4.6)\n",
      "Requirement already satisfied: catalogue<2.1.0,>=2.0.6 in /home/echkidieu/miniconda3/envs/min_ds-env/lib/python3.8/site-packages (from spacy->locationtagger) (2.0.8)\n",
      "Requirement already satisfied: typer<0.8.0,>=0.3.0 in /home/echkidieu/miniconda3/envs/min_ds-env/lib/python3.8/site-packages (from spacy->locationtagger) (0.7.0)\n",
      "Requirement already satisfied: pathy>=0.10.0 in /home/echkidieu/miniconda3/envs/min_ds-env/lib/python3.8/site-packages (from spacy->locationtagger) (0.10.1)\n",
      "Requirement already satisfied: smart-open<7.0.0,>=5.2.1 in /home/echkidieu/miniconda3/envs/min_ds-env/lib/python3.8/site-packages (from spacy->locationtagger) (6.3.0)\n",
      "Requirement already satisfied: numpy>=1.15.0 in /home/echkidieu/miniconda3/envs/min_ds-env/lib/python3.8/site-packages (from spacy->locationtagger) (1.23.5)\n",
      "Requirement already satisfied: pydantic!=1.8,!=1.8.1,<1.11.0,>=1.7.4 in /home/echkidieu/miniconda3/envs/min_ds-env/lib/python3.8/site-packages (from spacy->locationtagger) (1.10.7)\n",
      "Requirement already satisfied: jinja2 in /home/echkidieu/miniconda3/envs/min_ds-env/lib/python3.8/site-packages (from spacy->locationtagger) (3.1.2)\n",
      "Requirement already satisfied: packaging>=20.0 in /home/echkidieu/miniconda3/envs/min_ds-env/lib/python3.8/site-packages (from spacy->locationtagger) (23.1)\n",
      "Requirement already satisfied: langcodes<4.0.0,>=3.2.0 in /home/echkidieu/miniconda3/envs/min_ds-env/lib/python3.8/site-packages (from spacy->locationtagger) (3.3.0)\n",
      "Requirement already satisfied: soupsieve>1.2 in /home/echkidieu/miniconda3/envs/min_ds-env/lib/python3.8/site-packages (from beautifulsoup4>=4.4.1->newspaper3k->locationtagger) (2.4.1)\n",
      "Requirement already satisfied: six in /home/echkidieu/miniconda3/envs/min_ds-env/lib/python3.8/site-packages (from feedfinder2>=0.0.4->newspaper3k->locationtagger) (1.16.0)\n",
      "Requirement already satisfied: sgmllib3k in /home/echkidieu/miniconda3/envs/min_ds-env/lib/python3.8/site-packages (from feedparser>=5.2.1->newspaper3k->locationtagger) (1.0.0)\n",
      "Requirement already satisfied: typing-extensions>=4.2.0 in /home/echkidieu/miniconda3/envs/min_ds-env/lib/python3.8/site-packages (from pydantic!=1.8,!=1.8.1,<1.11.0,>=1.7.4->spacy->locationtagger) (4.5.0)\n",
      "Requirement already satisfied: charset-normalizer<4,>=2 in /home/echkidieu/miniconda3/envs/min_ds-env/lib/python3.8/site-packages (from requests>=2.10.0->newspaper3k->locationtagger) (3.1.0)\n",
      "Requirement already satisfied: idna<4,>=2.5 in /home/echkidieu/miniconda3/envs/min_ds-env/lib/python3.8/site-packages (from requests>=2.10.0->newspaper3k->locationtagger) (3.4)\n",
      "Requirement already satisfied: urllib3<3,>=1.21.1 in /home/echkidieu/miniconda3/envs/min_ds-env/lib/python3.8/site-packages (from requests>=2.10.0->newspaper3k->locationtagger) (1.26.15)\n",
      "Requirement already satisfied: certifi>=2017.4.17 in /home/echkidieu/miniconda3/envs/min_ds-env/lib/python3.8/site-packages (from requests>=2.10.0->newspaper3k->locationtagger) (2022.12.7)\n",
      "Requirement already satisfied: blis<0.8.0,>=0.7.8 in /home/echkidieu/miniconda3/envs/min_ds-env/lib/python3.8/site-packages (from thinc<8.2.0,>=8.1.8->spacy->locationtagger) (0.7.9)\n",
      "Requirement already satisfied: confection<1.0.0,>=0.0.1 in /home/echkidieu/miniconda3/envs/min_ds-env/lib/python3.8/site-packages (from thinc<8.2.0,>=8.1.8->spacy->locationtagger) (0.0.4)\n",
      "Requirement already satisfied: requests-file>=1.4 in /home/echkidieu/miniconda3/envs/min_ds-env/lib/python3.8/site-packages (from tldextract>=2.0.1->newspaper3k->locationtagger) (1.5.1)\n",
      "Requirement already satisfied: filelock>=3.0.8 in /home/echkidieu/miniconda3/envs/min_ds-env/lib/python3.8/site-packages (from tldextract>=2.0.1->newspaper3k->locationtagger) (3.12.0)\n",
      "Requirement already satisfied: MarkupSafe>=2.0 in /home/echkidieu/miniconda3/envs/min_ds-env/lib/python3.8/site-packages (from jinja2->spacy->locationtagger) (2.1.2)\n",
      "Requirement already satisfied: geotext in /home/echkidieu/miniconda3/envs/min_ds-env/lib/python3.8/site-packages (0.4.0)\n",
      "Requirement already satisfied: geopy in /home/echkidieu/miniconda3/envs/min_ds-env/lib/python3.8/site-packages (2.3.0)\n",
      "Requirement already satisfied: geographiclib<3,>=1.52 in /home/echkidieu/miniconda3/envs/min_ds-env/lib/python3.8/site-packages (from geopy) (2.0)\n"
     ]
    }
   ],
   "source": [
    "!pip install locationtagger\n",
    "!pip install geotext\n",
    "!pip install geopy"
   ]
  },
  {
   "cell_type": "code",
   "execution_count": 3,
   "metadata": {
    "id": "Mw9mzOauUQKz"
   },
   "outputs": [],
   "source": [
    "from geotext import GeoText\n",
    "from geopy.geocoders import Nominatim"
   ]
  },
  {
   "attachments": {},
   "cell_type": "markdown",
   "metadata": {
    "id": "Pgtfr8Myuhgj"
   },
   "source": [
    "<a name=\"2\"></a>\n",
    "# <font color=#0404B4> A. Tiền xử lý dữ liệu</font>\n"
   ]
  },
  {
   "attachments": {},
   "cell_type": "markdown",
   "metadata": {
    "id": "fX8imcMQuhgk"
   },
   "source": [
    "### 1. Đọc dữ liệu"
   ]
  },
  {
   "cell_type": "code",
   "execution_count": 4,
   "metadata": {
    "colab": {
     "base_uri": "https://localhost:8080/"
    },
    "id": "uf4wBvLauhgk",
    "outputId": "d1b4a097-4d1c-44bb-f4d2-1b3c62bcfb83"
   },
   "outputs": [
    {
     "data": {
      "text/plain": [
       "(7613, 5)"
      ]
     },
     "execution_count": 4,
     "metadata": {},
     "output_type": "execute_result"
    }
   ],
   "source": [
    "train_df=pd.read_csv(\"datasets/train.csv\")\n",
    "train_df.shape"
   ]
  },
  {
   "cell_type": "code",
   "execution_count": 5,
   "metadata": {
    "colab": {
     "base_uri": "https://localhost:8080/"
    },
    "id": "F3U52ZO0uhgm",
    "outputId": "1b9a7c6c-92b8-4167-bb55-a0844e76fcb1"
   },
   "outputs": [
    {
     "data": {
      "text/plain": [
       "(3263, 4)"
      ]
     },
     "execution_count": 5,
     "metadata": {},
     "output_type": "execute_result"
    }
   ],
   "source": [
    "test_df=pd.read_csv(\"datasets/test.csv\")\n",
    "test_df.shape"
   ]
  },
  {
   "cell_type": "code",
   "execution_count": 6,
   "metadata": {
    "colab": {
     "base_uri": "https://localhost:8080/"
    },
    "id": "0yO5froduhgn",
    "outputId": "017954df-beb3-4f0b-fda1-d4241690df33"
   },
   "outputs": [
    {
     "data": {
      "text/plain": [
       "(3263, 2)"
      ]
     },
     "execution_count": 6,
     "metadata": {},
     "output_type": "execute_result"
    }
   ],
   "source": [
    "sample_submission_df=pd.read_csv(\"datasets/sample_submission.csv\")\n",
    "sample_submission_df.shape"
   ]
  },
  {
   "cell_type": "code",
   "execution_count": 7,
   "metadata": {
    "colab": {
     "base_uri": "https://localhost:8080/",
     "height": 206
    },
    "id": "xs6xc_ciuhgo",
    "outputId": "14aad926-b2a3-48a8-cb2b-2bf1ffa708a1"
   },
   "outputs": [
    {
     "data": {
      "text/html": [
       "<div>\n",
       "<style scoped>\n",
       "    .dataframe tbody tr th:only-of-type {\n",
       "        vertical-align: middle;\n",
       "    }\n",
       "\n",
       "    .dataframe tbody tr th {\n",
       "        vertical-align: top;\n",
       "    }\n",
       "\n",
       "    .dataframe thead th {\n",
       "        text-align: right;\n",
       "    }\n",
       "</style>\n",
       "<table border=\"1\" class=\"dataframe\">\n",
       "  <thead>\n",
       "    <tr style=\"text-align: right;\">\n",
       "      <th></th>\n",
       "      <th>id</th>\n",
       "      <th>keyword</th>\n",
       "      <th>location</th>\n",
       "      <th>text</th>\n",
       "      <th>target</th>\n",
       "    </tr>\n",
       "  </thead>\n",
       "  <tbody>\n",
       "    <tr>\n",
       "      <th>0</th>\n",
       "      <td>1</td>\n",
       "      <td>NaN</td>\n",
       "      <td>NaN</td>\n",
       "      <td>Our Deeds are the Reason of this #earthquake May ALLAH Forgive us all</td>\n",
       "      <td>1</td>\n",
       "    </tr>\n",
       "    <tr>\n",
       "      <th>1</th>\n",
       "      <td>4</td>\n",
       "      <td>NaN</td>\n",
       "      <td>NaN</td>\n",
       "      <td>Forest fire near La Ronge Sask. Canada</td>\n",
       "      <td>1</td>\n",
       "    </tr>\n",
       "    <tr>\n",
       "      <th>2</th>\n",
       "      <td>5</td>\n",
       "      <td>NaN</td>\n",
       "      <td>NaN</td>\n",
       "      <td>All residents asked to 'shelter in place' are being notified by officers. No other evacuation or shelter in place orders are expected</td>\n",
       "      <td>1</td>\n",
       "    </tr>\n",
       "    <tr>\n",
       "      <th>3</th>\n",
       "      <td>6</td>\n",
       "      <td>NaN</td>\n",
       "      <td>NaN</td>\n",
       "      <td>13,000 people receive #wildfires evacuation orders in California</td>\n",
       "      <td>1</td>\n",
       "    </tr>\n",
       "    <tr>\n",
       "      <th>4</th>\n",
       "      <td>7</td>\n",
       "      <td>NaN</td>\n",
       "      <td>NaN</td>\n",
       "      <td>Just got sent this photo from Ruby #Alaska as smoke from #wildfires pours into a school</td>\n",
       "      <td>1</td>\n",
       "    </tr>\n",
       "  </tbody>\n",
       "</table>\n",
       "</div>"
      ],
      "text/plain": [
       "   id keyword location  \\\n",
       "0   1     NaN      NaN   \n",
       "1   4     NaN      NaN   \n",
       "2   5     NaN      NaN   \n",
       "3   6     NaN      NaN   \n",
       "4   7     NaN      NaN   \n",
       "\n",
       "                                                                                                                                    text  \\\n",
       "0                                                                  Our Deeds are the Reason of this #earthquake May ALLAH Forgive us all   \n",
       "1                                                                                                 Forest fire near La Ronge Sask. Canada   \n",
       "2  All residents asked to 'shelter in place' are being notified by officers. No other evacuation or shelter in place orders are expected   \n",
       "3                                                                      13,000 people receive #wildfires evacuation orders in California    \n",
       "4                                               Just got sent this photo from Ruby #Alaska as smoke from #wildfires pours into a school    \n",
       "\n",
       "   target  \n",
       "0       1  \n",
       "1       1  \n",
       "2       1  \n",
       "3       1  \n",
       "4       1  "
      ]
     },
     "execution_count": 7,
     "metadata": {},
     "output_type": "execute_result"
    }
   ],
   "source": [
    "train_df.head()"
   ]
  },
  {
   "cell_type": "code",
   "execution_count": 8,
   "metadata": {
    "colab": {
     "base_uri": "https://localhost:8080/",
     "height": 206
    },
    "id": "n2yWbN6euhgp",
    "outputId": "bc9dcf6c-172d-4596-f999-50b584a01e50"
   },
   "outputs": [
    {
     "data": {
      "text/html": [
       "<div>\n",
       "<style scoped>\n",
       "    .dataframe tbody tr th:only-of-type {\n",
       "        vertical-align: middle;\n",
       "    }\n",
       "\n",
       "    .dataframe tbody tr th {\n",
       "        vertical-align: top;\n",
       "    }\n",
       "\n",
       "    .dataframe thead th {\n",
       "        text-align: right;\n",
       "    }\n",
       "</style>\n",
       "<table border=\"1\" class=\"dataframe\">\n",
       "  <thead>\n",
       "    <tr style=\"text-align: right;\">\n",
       "      <th></th>\n",
       "      <th>id</th>\n",
       "      <th>keyword</th>\n",
       "      <th>location</th>\n",
       "      <th>text</th>\n",
       "    </tr>\n",
       "  </thead>\n",
       "  <tbody>\n",
       "    <tr>\n",
       "      <th>0</th>\n",
       "      <td>0</td>\n",
       "      <td>NaN</td>\n",
       "      <td>NaN</td>\n",
       "      <td>Just happened a terrible car crash</td>\n",
       "    </tr>\n",
       "    <tr>\n",
       "      <th>1</th>\n",
       "      <td>2</td>\n",
       "      <td>NaN</td>\n",
       "      <td>NaN</td>\n",
       "      <td>Heard about #earthquake is different cities, stay safe everyone.</td>\n",
       "    </tr>\n",
       "    <tr>\n",
       "      <th>2</th>\n",
       "      <td>3</td>\n",
       "      <td>NaN</td>\n",
       "      <td>NaN</td>\n",
       "      <td>there is a forest fire at spot pond, geese are fleeing across the street, I cannot save them all</td>\n",
       "    </tr>\n",
       "    <tr>\n",
       "      <th>3</th>\n",
       "      <td>9</td>\n",
       "      <td>NaN</td>\n",
       "      <td>NaN</td>\n",
       "      <td>Apocalypse lighting. #Spokane #wildfires</td>\n",
       "    </tr>\n",
       "    <tr>\n",
       "      <th>4</th>\n",
       "      <td>11</td>\n",
       "      <td>NaN</td>\n",
       "      <td>NaN</td>\n",
       "      <td>Typhoon Soudelor kills 28 in China and Taiwan</td>\n",
       "    </tr>\n",
       "  </tbody>\n",
       "</table>\n",
       "</div>"
      ],
      "text/plain": [
       "   id keyword location  \\\n",
       "0   0     NaN      NaN   \n",
       "1   2     NaN      NaN   \n",
       "2   3     NaN      NaN   \n",
       "3   9     NaN      NaN   \n",
       "4  11     NaN      NaN   \n",
       "\n",
       "                                                                                               text  \n",
       "0                                                                Just happened a terrible car crash  \n",
       "1                                  Heard about #earthquake is different cities, stay safe everyone.  \n",
       "2  there is a forest fire at spot pond, geese are fleeing across the street, I cannot save them all  \n",
       "3                                                          Apocalypse lighting. #Spokane #wildfires  \n",
       "4                                                     Typhoon Soudelor kills 28 in China and Taiwan  "
      ]
     },
     "execution_count": 8,
     "metadata": {},
     "output_type": "execute_result"
    }
   ],
   "source": [
    "test_df.head()"
   ]
  },
  {
   "cell_type": "code",
   "execution_count": 9,
   "metadata": {
    "colab": {
     "base_uri": "https://localhost:8080/",
     "height": 206
    },
    "id": "YGHV0RMUuhgp",
    "outputId": "085ee412-39e9-4616-dde6-712a1d504ac0"
   },
   "outputs": [
    {
     "data": {
      "text/html": [
       "<div>\n",
       "<style scoped>\n",
       "    .dataframe tbody tr th:only-of-type {\n",
       "        vertical-align: middle;\n",
       "    }\n",
       "\n",
       "    .dataframe tbody tr th {\n",
       "        vertical-align: top;\n",
       "    }\n",
       "\n",
       "    .dataframe thead th {\n",
       "        text-align: right;\n",
       "    }\n",
       "</style>\n",
       "<table border=\"1\" class=\"dataframe\">\n",
       "  <thead>\n",
       "    <tr style=\"text-align: right;\">\n",
       "      <th></th>\n",
       "      <th>id</th>\n",
       "      <th>target</th>\n",
       "    </tr>\n",
       "  </thead>\n",
       "  <tbody>\n",
       "    <tr>\n",
       "      <th>0</th>\n",
       "      <td>0</td>\n",
       "      <td>0</td>\n",
       "    </tr>\n",
       "    <tr>\n",
       "      <th>1</th>\n",
       "      <td>2</td>\n",
       "      <td>0</td>\n",
       "    </tr>\n",
       "    <tr>\n",
       "      <th>2</th>\n",
       "      <td>3</td>\n",
       "      <td>0</td>\n",
       "    </tr>\n",
       "    <tr>\n",
       "      <th>3</th>\n",
       "      <td>9</td>\n",
       "      <td>0</td>\n",
       "    </tr>\n",
       "    <tr>\n",
       "      <th>4</th>\n",
       "      <td>11</td>\n",
       "      <td>0</td>\n",
       "    </tr>\n",
       "  </tbody>\n",
       "</table>\n",
       "</div>"
      ],
      "text/plain": [
       "   id  target\n",
       "0   0       0\n",
       "1   2       0\n",
       "2   3       0\n",
       "3   9       0\n",
       "4  11       0"
      ]
     },
     "execution_count": 9,
     "metadata": {},
     "output_type": "execute_result"
    }
   ],
   "source": [
    "sample_submission_df.head()"
   ]
  },
  {
   "attachments": {},
   "cell_type": "markdown",
   "metadata": {
    "id": "pXKtjBInuhgq"
   },
   "source": [
    "### 2. Mỗi dòng có ý nghĩa gì? Có vấn đề các dòng có ý nghĩa khác nhau không?\n",
    "- `train_df`: Thông tin của tweet trên tập huấn luyện gồm: id, từ khóa, địa điểm gửi, nội dung và nhãn của tweet.\n",
    "- `test_df`: Thông tin của tweet trên tập test gồm: id, từ khóa, địa điểm gửi, nội dung.\n",
    "- `sample_submission_df`: định dạng nộp bài."
   ]
  },
  {
   "attachments": {},
   "cell_type": "markdown",
   "metadata": {
    "id": "GXZzg3c8uhgq"
   },
   "source": [
    "### 3. Có dữ liệu bị trùng lặp ở các dataframe không"
   ]
  },
  {
   "cell_type": "code",
   "execution_count": 10,
   "metadata": {
    "id": "bRgo1M_Puhgq"
   },
   "outputs": [],
   "source": [
    "def check_duplicated(dataframe):\n",
    "    duplicated_rows = dataframe.duplicated()\n",
    "\n",
    "    # In các hàng bị lặp lại\n",
    "    if len(dataframe[duplicated_rows])>0:\n",
    "        print('Có dòng dữ liệu bị lặp')\n",
    "        display(dataframe[duplicated_rows])\n",
    "    else: \n",
    "        print('Không có dòng dữ liệu nào bị lặp')\n"
   ]
  },
  {
   "attachments": {},
   "cell_type": "markdown",
   "metadata": {
    "id": "YNAeCdx4uhgr"
   },
   "source": [
    "Dataframe `train_df`"
   ]
  },
  {
   "cell_type": "code",
   "execution_count": 11,
   "metadata": {
    "colab": {
     "base_uri": "https://localhost:8080/"
    },
    "id": "HPSc_lDtuhgr",
    "outputId": "ffd00c97-3542-41b7-ec01-24644d1b8d1b"
   },
   "outputs": [
    {
     "name": "stdout",
     "output_type": "stream",
     "text": [
      "Không có dòng dữ liệu nào bị lặp\n"
     ]
    }
   ],
   "source": [
    "check_duplicated(train_df)"
   ]
  },
  {
   "attachments": {},
   "cell_type": "markdown",
   "metadata": {
    "id": "n_y6XprGuhgr"
   },
   "source": [
    "Dataframe `test_df`"
   ]
  },
  {
   "cell_type": "code",
   "execution_count": 12,
   "metadata": {
    "colab": {
     "base_uri": "https://localhost:8080/"
    },
    "id": "JaQkYcNhuhgs",
    "outputId": "7641f589-0f7a-489a-ac4d-adf81ed97a98"
   },
   "outputs": [
    {
     "name": "stdout",
     "output_type": "stream",
     "text": [
      "Không có dòng dữ liệu nào bị lặp\n"
     ]
    }
   ],
   "source": [
    "check_duplicated(test_df)"
   ]
  },
  {
   "attachments": {},
   "cell_type": "markdown",
   "metadata": {
    "id": "CMeh819juhgs"
   },
   "source": [
    "Dataframe `sample_submission_df`"
   ]
  },
  {
   "cell_type": "code",
   "execution_count": 13,
   "metadata": {
    "colab": {
     "base_uri": "https://localhost:8080/"
    },
    "id": "zx7ynlN4uhgs",
    "outputId": "83f75a65-fb19-412a-8c4e-1b08bda58392"
   },
   "outputs": [
    {
     "name": "stdout",
     "output_type": "stream",
     "text": [
      "Không có dòng dữ liệu nào bị lặp\n"
     ]
    }
   ],
   "source": [
    "check_duplicated(sample_submission_df)"
   ]
  },
  {
   "attachments": {},
   "cell_type": "markdown",
   "metadata": {
    "id": "fs_eKD9Fuhgt"
   },
   "source": [
    "<h3> 4. Mỗi cột có ý nghĩa gì?</h3>"
   ]
  },
  {
   "attachments": {},
   "cell_type": "markdown",
   "metadata": {
    "id": "psE-YVKuuhgt"
   },
   "source": [
    "|STT|Tên cột dữ liệu | <center>Mô tả<center> | Ghi chú |\n",
    "|--|:------:| ---| --- |\n",
    "|1|id|<center>định danh của tweet<center>|\n",
    "|2|keyword| <center>Từ khóa được lấy từ tweet<center>|Có thể thiếu|\n",
    "|3|location|<center>Địa điểm đăng tweet<center>| Có thể thiếu|\n",
    "|4|text| <center>Nội dung của tweet<center>||\n",
    "|5|target|<center>Nhãn được gán cho tweet<center>|1: Thảm họa thực sự <br> 0: Không xảy ra thảm họa| \n"
   ]
  },
  {
   "attachments": {},
   "cell_type": "markdown",
   "metadata": {
    "id": "N3vvuiBHuhgt"
   },
   "source": [
    "\n",
    "### 5. Mỗi cột hiện đang có kiểu dữ liệu gì? Có cột nào có kiểu dữ liệu chưa phù hợp?\n",
    "\n"
   ]
  },
  {
   "attachments": {},
   "cell_type": "markdown",
   "metadata": {
    "id": "UwosgJGguhgu"
   },
   "source": [
    "Dataframe `train_df`"
   ]
  },
  {
   "cell_type": "code",
   "execution_count": 14,
   "metadata": {
    "colab": {
     "base_uri": "https://localhost:8080/"
    },
    "id": "JePUZe0muhgu",
    "outputId": "83a5d943-783a-4868-f3c8-f401addfa415"
   },
   "outputs": [
    {
     "data": {
      "text/plain": [
       "Index(['id', 'keyword', 'location', 'text', 'target'], dtype='object')"
      ]
     },
     "execution_count": 14,
     "metadata": {},
     "output_type": "execute_result"
    }
   ],
   "source": [
    "train_df.columns"
   ]
  },
  {
   "cell_type": "code",
   "execution_count": 15,
   "metadata": {
    "colab": {
     "base_uri": "https://localhost:8080/"
    },
    "id": "EIbRTPoiuhgu",
    "outputId": "f99da8fb-0b3c-4e0c-8108-074455b29ef5"
   },
   "outputs": [
    {
     "name": "stdout",
     "output_type": "stream",
     "text": [
      "<class 'pandas.core.frame.DataFrame'>\n",
      "RangeIndex: 7613 entries, 0 to 7612\n",
      "Data columns (total 5 columns):\n",
      " #   Column    Non-Null Count  Dtype \n",
      "---  ------    --------------  ----- \n",
      " 0   id        7613 non-null   int64 \n",
      " 1   keyword   7552 non-null   object\n",
      " 2   location  5080 non-null   object\n",
      " 3   text      7613 non-null   object\n",
      " 4   target    7613 non-null   int64 \n",
      "dtypes: int64(2), object(3)\n",
      "memory usage: 297.5+ KB\n"
     ]
    }
   ],
   "source": [
    "train_df.info()"
   ]
  },
  {
   "attachments": {},
   "cell_type": "markdown",
   "metadata": {
    "id": "TXEpMKqYuhgv"
   },
   "source": [
    "Dataframe `test_df`"
   ]
  },
  {
   "cell_type": "code",
   "execution_count": 16,
   "metadata": {
    "colab": {
     "base_uri": "https://localhost:8080/"
    },
    "id": "V_Pdskjnuhgv",
    "outputId": "5633cb53-7331-40cd-ca29-691ad9ba4d53"
   },
   "outputs": [
    {
     "data": {
      "text/plain": [
       "Index(['id', 'keyword', 'location', 'text'], dtype='object')"
      ]
     },
     "execution_count": 16,
     "metadata": {},
     "output_type": "execute_result"
    }
   ],
   "source": [
    "test_df.columns"
   ]
  },
  {
   "cell_type": "code",
   "execution_count": 17,
   "metadata": {
    "colab": {
     "base_uri": "https://localhost:8080/"
    },
    "id": "uSwqJnPvuhgv",
    "outputId": "39089f8e-18c6-41d2-a10a-7db2f2e58a8a"
   },
   "outputs": [
    {
     "name": "stdout",
     "output_type": "stream",
     "text": [
      "<class 'pandas.core.frame.DataFrame'>\n",
      "RangeIndex: 3263 entries, 0 to 3262\n",
      "Data columns (total 4 columns):\n",
      " #   Column    Non-Null Count  Dtype \n",
      "---  ------    --------------  ----- \n",
      " 0   id        3263 non-null   int64 \n",
      " 1   keyword   3237 non-null   object\n",
      " 2   location  2158 non-null   object\n",
      " 3   text      3263 non-null   object\n",
      "dtypes: int64(1), object(3)\n",
      "memory usage: 102.1+ KB\n"
     ]
    }
   ],
   "source": [
    "test_df.info()"
   ]
  },
  {
   "attachments": {},
   "cell_type": "markdown",
   "metadata": {
    "id": "PlgWPUp7uhgw"
   },
   "source": [
    "- Nhận xét:\n",
    "    - Dựa vào ý nghĩa của id và kích thước của `train_df` và `test_df`, nhận thấy rằng chúng ta có thể merge dữ liệu ở 2 dataframe để tạo thành 1 dataframe mới: `tweet_df`. Để tiện cho phần khám phá dữ liệu."
   ]
  },
  {
   "cell_type": "code",
   "execution_count": 18,
   "metadata": {
    "id": "zxGeceGpuhgw"
   },
   "outputs": [],
   "source": [
    "tweet_df=pd.concat([train_df,test_df])"
   ]
  },
  {
   "cell_type": "code",
   "execution_count": 19,
   "metadata": {
    "id": "faeRVrPZuhgw"
   },
   "outputs": [],
   "source": [
    "tweet_df=tweet_df.sort_values(by=\"id\").reset_index(drop=True)"
   ]
  },
  {
   "cell_type": "code",
   "execution_count": 20,
   "metadata": {
    "colab": {
     "base_uri": "https://localhost:8080/"
    },
    "id": "vuhh6tY_uhgw",
    "outputId": "2fc49aa7-0374-49f0-b89f-731ebfd1e62e"
   },
   "outputs": [
    {
     "name": "stdout",
     "output_type": "stream",
     "text": [
      "Không có dòng dữ liệu nào bị lặp\n"
     ]
    }
   ],
   "source": [
    "check_duplicated(tweet_df)"
   ]
  },
  {
   "cell_type": "code",
   "execution_count": 21,
   "metadata": {
    "colab": {
     "base_uri": "https://localhost:8080/"
    },
    "id": "r44Dwj8-uhgx",
    "outputId": "f9fa8dcc-4be2-4a31-9df9-c48e79790fc7"
   },
   "outputs": [
    {
     "data": {
      "text/plain": [
       "Index(['id', 'keyword', 'location', 'text', 'target'], dtype='object')"
      ]
     },
     "execution_count": 21,
     "metadata": {},
     "output_type": "execute_result"
    }
   ],
   "source": [
    "tweet_df.columns"
   ]
  },
  {
   "cell_type": "code",
   "execution_count": 22,
   "metadata": {
    "colab": {
     "base_uri": "https://localhost:8080/"
    },
    "id": "A44P0Gnmuhgx",
    "outputId": "345bc1c5-51a2-4ad9-d77d-a79d64ab19f8"
   },
   "outputs": [
    {
     "name": "stdout",
     "output_type": "stream",
     "text": [
      "<class 'pandas.core.frame.DataFrame'>\n",
      "RangeIndex: 10876 entries, 0 to 10875\n",
      "Data columns (total 5 columns):\n",
      " #   Column    Non-Null Count  Dtype  \n",
      "---  ------    --------------  -----  \n",
      " 0   id        10876 non-null  int64  \n",
      " 1   keyword   10789 non-null  object \n",
      " 2   location  7238 non-null   object \n",
      " 3   text      10876 non-null  object \n",
      " 4   target    7613 non-null   float64\n",
      "dtypes: float64(1), int64(1), object(3)\n",
      "memory usage: 425.0+ KB\n"
     ]
    }
   ],
   "source": [
    "tweet_df.info()"
   ]
  },
  {
   "attachments": {},
   "cell_type": "markdown",
   "metadata": {
    "id": "6ZEOMZ2ruhgx"
   },
   "source": [
    "### 6. Với mỗi cột, các giá trị được phân bố như thế nào?"
   ]
  },
  {
   "attachments": {},
   "cell_type": "markdown",
   "metadata": {
    "id": "nMHe2vfGuhgy"
   },
   "source": [
    "#### Cột có kiểu dữ liệu dạng số, và phân bố:\n"
   ]
  },
  {
   "cell_type": "code",
   "execution_count": 23,
   "metadata": {
    "colab": {
     "base_uri": "https://localhost:8080/",
     "height": 206
    },
    "id": "sTtafIL6uhgy",
    "outputId": "92b0c86f-5bba-4041-ba95-f2cafdbede0e"
   },
   "outputs": [
    {
     "data": {
      "text/html": [
       "<div>\n",
       "<style scoped>\n",
       "    .dataframe tbody tr th:only-of-type {\n",
       "        vertical-align: middle;\n",
       "    }\n",
       "\n",
       "    .dataframe tbody tr th {\n",
       "        vertical-align: top;\n",
       "    }\n",
       "\n",
       "    .dataframe thead th {\n",
       "        text-align: right;\n",
       "    }\n",
       "</style>\n",
       "<table border=\"1\" class=\"dataframe\">\n",
       "  <thead>\n",
       "    <tr style=\"text-align: right;\">\n",
       "      <th></th>\n",
       "      <th>id</th>\n",
       "      <th>target</th>\n",
       "    </tr>\n",
       "  </thead>\n",
       "  <tbody>\n",
       "    <tr>\n",
       "      <th>0</th>\n",
       "      <td>0</td>\n",
       "      <td>NaN</td>\n",
       "    </tr>\n",
       "    <tr>\n",
       "      <th>1</th>\n",
       "      <td>1</td>\n",
       "      <td>1.0</td>\n",
       "    </tr>\n",
       "    <tr>\n",
       "      <th>2</th>\n",
       "      <td>2</td>\n",
       "      <td>NaN</td>\n",
       "    </tr>\n",
       "    <tr>\n",
       "      <th>3</th>\n",
       "      <td>3</td>\n",
       "      <td>NaN</td>\n",
       "    </tr>\n",
       "    <tr>\n",
       "      <th>4</th>\n",
       "      <td>4</td>\n",
       "      <td>1.0</td>\n",
       "    </tr>\n",
       "  </tbody>\n",
       "</table>\n",
       "</div>"
      ],
      "text/plain": [
       "   id  target\n",
       "0   0     NaN\n",
       "1   1     1.0\n",
       "2   2     NaN\n",
       "3   3     NaN\n",
       "4   4     1.0"
      ]
     },
     "execution_count": 23,
     "metadata": {},
     "output_type": "execute_result"
    }
   ],
   "source": [
    "numerical_cols = tweet_df[tweet_df.select_dtypes(exclude=['object']).columns]\n",
    "numerical_cols.head(5)"
   ]
  },
  {
   "attachments": {},
   "cell_type": "markdown",
   "metadata": {
    "id": "Qlorwh8zuhgy"
   },
   "source": [
    "- Với các cột dữ liệu dạng số ta sẽ tính % dữ liệu thiếu, min, max. Kết quả được lưu vào dataframe `nume_col_profiles_df`, với:\n",
    "    - `missing_ratio`: % dữ liệu thiếu.\n",
    "    - `min`: giá trị nhỏ nhất.\n",
    "    - `max`: giá trị lớn nhất."
   ]
  },
  {
   "cell_type": "code",
   "execution_count": 24,
   "metadata": {
    "colab": {
     "base_uri": "https://localhost:8080/",
     "height": 143
    },
    "id": "8VuzmuNUuhg3",
    "outputId": "23dfc9d3-ed3f-4cc0-befd-739b94d7e104"
   },
   "outputs": [
    {
     "data": {
      "text/html": [
       "<div>\n",
       "<style scoped>\n",
       "    .dataframe tbody tr th:only-of-type {\n",
       "        vertical-align: middle;\n",
       "    }\n",
       "\n",
       "    .dataframe tbody tr th {\n",
       "        vertical-align: top;\n",
       "    }\n",
       "\n",
       "    .dataframe thead th {\n",
       "        text-align: right;\n",
       "    }\n",
       "</style>\n",
       "<table border=\"1\" class=\"dataframe\">\n",
       "  <thead>\n",
       "    <tr style=\"text-align: right;\">\n",
       "      <th></th>\n",
       "      <th>id</th>\n",
       "      <th>target</th>\n",
       "    </tr>\n",
       "  </thead>\n",
       "  <tbody>\n",
       "    <tr>\n",
       "      <th>missing_ratio</th>\n",
       "      <td>0.0</td>\n",
       "      <td>30.001839</td>\n",
       "    </tr>\n",
       "    <tr>\n",
       "      <th>min</th>\n",
       "      <td>0.0</td>\n",
       "      <td>0.000000</td>\n",
       "    </tr>\n",
       "    <tr>\n",
       "      <th>max</th>\n",
       "      <td>10875.0</td>\n",
       "      <td>1.000000</td>\n",
       "    </tr>\n",
       "  </tbody>\n",
       "</table>\n",
       "</div>"
      ],
      "text/plain": [
       "                    id     target\n",
       "missing_ratio      0.0  30.001839\n",
       "min                0.0   0.000000\n",
       "max            10875.0   1.000000"
      ]
     },
     "execution_count": 24,
     "metadata": {},
     "output_type": "execute_result"
    }
   ],
   "source": [
    "numerical_cols = tweet_df[tweet_df.select_dtypes(exclude=['object']).columns]\n",
    "\n",
    "def missing_ratio(c):\n",
    "    return  c.isna().sum()/len(c) * 100\n",
    "\n",
    "def min(c):\n",
    "    return c.min()\n",
    "\n",
    "def max(c):\n",
    "    return c.max()\n",
    "\n",
    "nume_col_profiles_df = numerical_cols.agg([missing_ratio, min, max])\n",
    "nume_col_profiles_df"
   ]
  },
  {
   "attachments": {},
   "cell_type": "markdown",
   "metadata": {
    "id": "5CJmFFmhuhg4"
   },
   "source": [
    "- Nhận xét:\n",
    "    - `id`: Không có dữ liệu thiếu, ID tweet nhỏ nhất là 0, lớn nhất là 10875.\n",
    "    - `target`: Có 30% dữ liệu thiếu tương ứng với các tweet chưa được gán nhãn ở `test_df`."
   ]
  },
  {
   "attachments": {},
   "cell_type": "markdown",
   "metadata": {
    "id": "b04uU4F8uhg4"
   },
   "source": [
    "#### Cột có kiểu dữ liệu phân loại, và phân bố:\n"
   ]
  },
  {
   "cell_type": "code",
   "execution_count": 25,
   "metadata": {
    "colab": {
     "base_uri": "https://localhost:8080/",
     "height": 206
    },
    "id": "we4Cq0FTuhg5",
    "outputId": "68548612-824c-45ea-a9a1-f7868337e1a6"
   },
   "outputs": [
    {
     "data": {
      "text/html": [
       "<div>\n",
       "<style scoped>\n",
       "    .dataframe tbody tr th:only-of-type {\n",
       "        vertical-align: middle;\n",
       "    }\n",
       "\n",
       "    .dataframe tbody tr th {\n",
       "        vertical-align: top;\n",
       "    }\n",
       "\n",
       "    .dataframe thead th {\n",
       "        text-align: right;\n",
       "    }\n",
       "</style>\n",
       "<table border=\"1\" class=\"dataframe\">\n",
       "  <thead>\n",
       "    <tr style=\"text-align: right;\">\n",
       "      <th></th>\n",
       "      <th>keyword</th>\n",
       "      <th>location</th>\n",
       "      <th>text</th>\n",
       "    </tr>\n",
       "  </thead>\n",
       "  <tbody>\n",
       "    <tr>\n",
       "      <th>0</th>\n",
       "      <td>NaN</td>\n",
       "      <td>NaN</td>\n",
       "      <td>Just happened a terrible car crash</td>\n",
       "    </tr>\n",
       "    <tr>\n",
       "      <th>1</th>\n",
       "      <td>NaN</td>\n",
       "      <td>NaN</td>\n",
       "      <td>Our Deeds are the Reason of this #earthquake May ALLAH Forgive us all</td>\n",
       "    </tr>\n",
       "    <tr>\n",
       "      <th>2</th>\n",
       "      <td>NaN</td>\n",
       "      <td>NaN</td>\n",
       "      <td>Heard about #earthquake is different cities, stay safe everyone.</td>\n",
       "    </tr>\n",
       "    <tr>\n",
       "      <th>3</th>\n",
       "      <td>NaN</td>\n",
       "      <td>NaN</td>\n",
       "      <td>there is a forest fire at spot pond, geese are fleeing across the street, I cannot save them all</td>\n",
       "    </tr>\n",
       "    <tr>\n",
       "      <th>4</th>\n",
       "      <td>NaN</td>\n",
       "      <td>NaN</td>\n",
       "      <td>Forest fire near La Ronge Sask. Canada</td>\n",
       "    </tr>\n",
       "  </tbody>\n",
       "</table>\n",
       "</div>"
      ],
      "text/plain": [
       "  keyword location  \\\n",
       "0     NaN      NaN   \n",
       "1     NaN      NaN   \n",
       "2     NaN      NaN   \n",
       "3     NaN      NaN   \n",
       "4     NaN      NaN   \n",
       "\n",
       "                                                                                               text  \n",
       "0                                                                Just happened a terrible car crash  \n",
       "1                             Our Deeds are the Reason of this #earthquake May ALLAH Forgive us all  \n",
       "2                                  Heard about #earthquake is different cities, stay safe everyone.  \n",
       "3  there is a forest fire at spot pond, geese are fleeing across the street, I cannot save them all  \n",
       "4                                                            Forest fire near La Ronge Sask. Canada  "
      ]
     },
     "execution_count": 25,
     "metadata": {},
     "output_type": "execute_result"
    }
   ],
   "source": [
    "object_cols = tweet_df[tweet_df.select_dtypes(include=['object']).columns]\n",
    "object_cols.head(5)"
   ]
  },
  {
   "attachments": {},
   "cell_type": "markdown",
   "metadata": {
    "id": "FtFNDxS1uhg5"
   },
   "source": [
    "- Với các cột categorical, ta tính tỉ lệ % dữ liệu thiếu, số lượng giá trị khác nhau, phân bố của các giá trị khác nhau. Kết quả được lưu vào dataframe `cate_col_profiles_df`, với:\n",
    "    - `missing_ratio`: % dữ liệu thiếu\n",
    "    - `num_diff_vals`: số lượng giá trị khác nhau <em>(không xét giá trị thiếu)</em>\n",
    "    - `ratio_diff_vals`: phân bố của các giá trị khác nhau <em>(không xét giá trị thiếu)</em>."
   ]
  },
  {
   "cell_type": "code",
   "execution_count": 26,
   "metadata": {
    "colab": {
     "base_uri": "https://localhost:8080/",
     "height": 240
    },
    "id": "yMHTYOOfuhg5",
    "outputId": "9167b2db-e7fc-448e-91c0-87738c8dcda1"
   },
   "outputs": [
    {
     "data": {
      "text/html": [
       "<div>\n",
       "<style scoped>\n",
       "    .dataframe tbody tr th:only-of-type {\n",
       "        vertical-align: middle;\n",
       "    }\n",
       "\n",
       "    .dataframe tbody tr th {\n",
       "        vertical-align: top;\n",
       "    }\n",
       "\n",
       "    .dataframe thead th {\n",
       "        text-align: right;\n",
       "    }\n",
       "</style>\n",
       "<table border=\"1\" class=\"dataframe\">\n",
       "  <thead>\n",
       "    <tr style=\"text-align: right;\">\n",
       "      <th></th>\n",
       "      <th>keyword</th>\n",
       "      <th>location</th>\n",
       "      <th>text</th>\n",
       "    </tr>\n",
       "  </thead>\n",
       "  <tbody>\n",
       "    <tr>\n",
       "      <th>missing_ratio</th>\n",
       "      <td>0.799926</td>\n",
       "      <td>33.449798</td>\n",
       "      <td>0.0</td>\n",
       "    </tr>\n",
       "    <tr>\n",
       "      <th>num_diff_vals</th>\n",
       "      <td>221</td>\n",
       "      <td>4521</td>\n",
       "      <td>10678</td>\n",
       "    </tr>\n",
       "    <tr>\n",
       "      <th>ratio_diff_vals</th>\n",
       "      <td>{'ablaze': 0.0, 'lava': 0.0, 'loud%20bang': 0.0, 'mass%20murder': 0.0, 'massacre': 0.0, 'mayhem': 0.0, 'meltdown': 0.0, 'military': 0.0, 'mudslide': 0.0, 'natural%20disaster': 0.0, 'nuclear%20disaster': 0.0, 'nuclear%20reactor': 0.0, 'obliterate'...</td>\n",
       "      <td>{'USA': 0.02, 'New York': 0.02, 'United States': 0.01, 'London': 0.01, 'Canada': 0.01, 'Nigeria': 0.01, 'India': 0.0, 'Worldwide': 0.0, 'Los Angeles, CA': 0.0, 'UK': 0.0, 'Kenya': 0.0, 'Washington, DC': 0.0, 'Mumbai': 0.0, 'United Kingdom': 0.0, ...</td>\n",
       "      <td>{'11-Year-Old Boy Charged With Manslaughter of Toddler: Report: An 11-year-old boy has been charged with manslaughter over the fatal sh...': 0.0, '#Bestnaijamade: 16yr old PKK suicide bomber who detonated bomb in ... http://t.co/KSAwlYuX02 bestna...</td>\n",
       "    </tr>\n",
       "  </tbody>\n",
       "</table>\n",
       "</div>"
      ],
      "text/plain": [
       "                                                                                                                                                                                                                                                                   keyword  \\\n",
       "missing_ratio                                                                                                                                                                                                                                                     0.799926   \n",
       "num_diff_vals                                                                                                                                                                                                                                                          221   \n",
       "ratio_diff_vals  {'ablaze': 0.0, 'lava': 0.0, 'loud%20bang': 0.0, 'mass%20murder': 0.0, 'massacre': 0.0, 'mayhem': 0.0, 'meltdown': 0.0, 'military': 0.0, 'mudslide': 0.0, 'natural%20disaster': 0.0, 'nuclear%20disaster': 0.0, 'nuclear%20reactor': 0.0, 'obliterate'...   \n",
       "\n",
       "                                                                                                                                                                                                                                                                  location  \\\n",
       "missing_ratio                                                                                                                                                                                                                                                    33.449798   \n",
       "num_diff_vals                                                                                                                                                                                                                                                         4521   \n",
       "ratio_diff_vals  {'USA': 0.02, 'New York': 0.02, 'United States': 0.01, 'London': 0.01, 'Canada': 0.01, 'Nigeria': 0.01, 'India': 0.0, 'Worldwide': 0.0, 'Los Angeles, CA': 0.0, 'UK': 0.0, 'Kenya': 0.0, 'Washington, DC': 0.0, 'Mumbai': 0.0, 'United Kingdom': 0.0, ...   \n",
       "\n",
       "                                                                                                                                                                                                                                                                      text  \n",
       "missing_ratio                                                                                                                                                                                                                                                          0.0  \n",
       "num_diff_vals                                                                                                                                                                                                                                                        10678  \n",
       "ratio_diff_vals  {'11-Year-Old Boy Charged With Manslaughter of Toddler: Report: An 11-year-old boy has been charged with manslaughter over the fatal sh...': 0.0, '#Bestnaijamade: 16yr old PKK suicide bomber who detonated bomb in ... http://t.co/KSAwlYuX02 bestna...  "
      ]
     },
     "execution_count": 26,
     "metadata": {},
     "output_type": "execute_result"
    }
   ],
   "source": [
    "def num_diff_vals(col):\n",
    "    return len(col.value_counts())\n",
    "\n",
    "def ratio_diff_vals(col):\n",
    "    return np.round(col.value_counts(normalize=True),2).to_dict()\n",
    "\n",
    "cate_col_profiles_df=object_cols.agg([missing_ratio,num_diff_vals,ratio_diff_vals])\n",
    "cate_col_profiles_df"
   ]
  },
  {
   "attachments": {},
   "cell_type": "markdown",
   "metadata": {
    "id": "ACRQwiVnuhg6"
   },
   "source": [
    "- Nhận xét:\n",
    "    - `location`: xuất hiện nhiều tweet không có địa chỉ đăng(33,45%), số lượng địa điểm lớn: 4521 địa điểm.\n",
    "    - `keyword`: vẫn xuất hiện các tweet không trích dẫn được từ khóa, số lượng không quá lớn: 221 cụm từ khóa.\n",
    "    - `text`: Không bị thiếu dữ liệu, nhưng số lượng nội dung chỉ là 10678 < 10875 (số lượng bài tweet). Có thể là do 1 số sự kiện/vấn đề nào đó."
   ]
  },
  {
   "attachments": {},
   "cell_type": "markdown",
   "metadata": {
    "id": "m7Ud-QdDuhg6"
   },
   "source": [
    "###  7. Có cột nào cần phải tiền xử lý hay không?\n"
   ]
  },
  {
   "attachments": {},
   "cell_type": "markdown",
   "metadata": {},
   "source": [
    "- Nhận xét:\n",
    "    - Qua kiểm tra dữ liệu, ta có thể thấy ở thuộc tính `location` có rất nhiều giá trị(4521 địa điểm) xấp xỉ bằng 1/2 tổng 2 tập `train_df` và `test_df` cộng lại. Thực hiện kiểm tra và xử lý về dạng chuẩn nhất có thể."
   ]
  },
  {
   "attachments": {},
   "cell_type": "markdown",
   "metadata": {},
   "source": [
    "#### 1. Xóa các địa điểm bị lỗi ký tự, xuất hiện ký tự đặc biệt nhiều:\n"
   ]
  },
  {
   "attachments": {},
   "cell_type": "markdown",
   "metadata": {},
   "source": [
    "Thực hiện xóa các hàm có ký tự đặc biệt nhiều hơn 1/4 so với độ dài của chuỗi. Và nếu trong cell đang xét có từ nào trên 2 ký tự thì thực hiện trả về *(Chỉ lấy 1 từ cuối)*"
   ]
  },
  {
   "cell_type": "code",
   "execution_count": 27,
   "metadata": {
    "id": "26CzXVwpTEHF"
   },
   "outputs": [],
   "source": [
    "def del_special_string(c):\n",
    "  if not(c is np.nan):\n",
    "    special_char=re.sub('[\\w^\\s\\.]+' ,'', c)\n",
    "    scale=len(special_char)/len(c)\n",
    "    if scale > 1/4:\n",
    "      words=re.findall('[a-zA-Z]{2,}',c)\n",
    "      if len(words)>0:\n",
    "        return words[-1]\n",
    "      return np.nan\n",
    "    else:\n",
    "      return c\n",
    "  return np.nan"
   ]
  },
  {
   "attachments": {},
   "cell_type": "markdown",
   "metadata": {},
   "source": [
    "Thực hiện chạy hàm `del_special_string` cho tất cả các dữ liệu trong cột `location`"
   ]
  },
  {
   "cell_type": "code",
   "execution_count": 28,
   "metadata": {
    "colab": {
     "base_uri": "https://localhost:8080/"
    },
    "id": "aXTEDjI3y2Q9",
    "outputId": "a8659795-3a7c-4b41-d77d-e9704ce6d755"
   },
   "outputs": [
    {
     "data": {
      "text/plain": [
       "4352"
      ]
     },
     "execution_count": 28,
     "metadata": {},
     "output_type": "execute_result"
    }
   ],
   "source": [
    "tweet_df.location.apply(del_special_string).str.strip().replace('',np.nan).unique().__len__()"
   ]
  },
  {
   "cell_type": "code",
   "execution_count": 29,
   "metadata": {
    "id": "0pzBUZgerVJ_"
   },
   "outputs": [],
   "source": [
    "tweet_df.location=tweet_df.location.apply(del_special_string).str.strip().replace('',np.nan)"
   ]
  },
  {
   "attachments": {},
   "cell_type": "markdown",
   "metadata": {},
   "source": [
    "Đếm số lần địa điểm được sử dụng"
   ]
  },
  {
   "cell_type": "code",
   "execution_count": 30,
   "metadata": {
    "id": "NxcPocfg5OwM"
   },
   "outputs": [
    {
     "data": {
      "text/html": [
       "<div>\n",
       "<style scoped>\n",
       "    .dataframe tbody tr th:only-of-type {\n",
       "        vertical-align: middle;\n",
       "    }\n",
       "\n",
       "    .dataframe tbody tr th {\n",
       "        vertical-align: top;\n",
       "    }\n",
       "\n",
       "    .dataframe thead th {\n",
       "        text-align: right;\n",
       "    }\n",
       "</style>\n",
       "<table border=\"1\" class=\"dataframe\">\n",
       "  <thead>\n",
       "    <tr style=\"text-align: right;\">\n",
       "      <th></th>\n",
       "      <th>location</th>\n",
       "      <th>counts</th>\n",
       "    </tr>\n",
       "  </thead>\n",
       "  <tbody>\n",
       "    <tr>\n",
       "      <th>0</th>\n",
       "      <td>USA</td>\n",
       "      <td>146</td>\n",
       "    </tr>\n",
       "    <tr>\n",
       "      <th>1</th>\n",
       "      <td>New York</td>\n",
       "      <td>112</td>\n",
       "    </tr>\n",
       "    <tr>\n",
       "      <th>2</th>\n",
       "      <td>United States</td>\n",
       "      <td>65</td>\n",
       "    </tr>\n",
       "    <tr>\n",
       "      <th>3</th>\n",
       "      <td>London</td>\n",
       "      <td>60</td>\n",
       "    </tr>\n",
       "    <tr>\n",
       "      <th>4</th>\n",
       "      <td>Nigeria</td>\n",
       "      <td>46</td>\n",
       "    </tr>\n",
       "    <tr>\n",
       "      <th>...</th>\n",
       "      <td>...</td>\n",
       "      <td>...</td>\n",
       "    </tr>\n",
       "    <tr>\n",
       "      <th>4346</th>\n",
       "      <td>buenos aires argentina</td>\n",
       "      <td>1</td>\n",
       "    </tr>\n",
       "    <tr>\n",
       "      <th>4347</th>\n",
       "      <td>everydaynigerian@gmail.com</td>\n",
       "      <td>1</td>\n",
       "    </tr>\n",
       "    <tr>\n",
       "      <th>4348</th>\n",
       "      <td>Surulere Lagos,Home Of Swagg</td>\n",
       "      <td>1</td>\n",
       "    </tr>\n",
       "    <tr>\n",
       "      <th>4349</th>\n",
       "      <td>MontrÌ©al, QuÌ©bec</td>\n",
       "      <td>1</td>\n",
       "    </tr>\n",
       "    <tr>\n",
       "      <th>4350</th>\n",
       "      <td>Lincoln</td>\n",
       "      <td>1</td>\n",
       "    </tr>\n",
       "  </tbody>\n",
       "</table>\n",
       "<p>4351 rows × 2 columns</p>\n",
       "</div>"
      ],
      "text/plain": [
       "                          location  counts\n",
       "0                              USA     146\n",
       "1                         New York     112\n",
       "2                    United States      65\n",
       "3                           London      60\n",
       "4                          Nigeria      46\n",
       "...                            ...     ...\n",
       "4346        buenos aires argentina       1\n",
       "4347    everydaynigerian@gmail.com       1\n",
       "4348  Surulere Lagos,Home Of Swagg       1\n",
       "4349            MontrÌ©al, QuÌ©bec       1\n",
       "4350                       Lincoln       1\n",
       "\n",
       "[4351 rows x 2 columns]"
      ]
     },
     "execution_count": 30,
     "metadata": {},
     "output_type": "execute_result"
    }
   ],
   "source": [
    "location_count_df=tweet_df.location.value_counts().to_frame().reset_index().rename(columns={\"location\":\"counts\",\"index\":\"location\"})\n",
    "location_count_df"
   ]
  },
  {
   "cell_type": "code",
   "execution_count": 31,
   "metadata": {
    "id": "gpnLhg9r_0WI"
   },
   "outputs": [],
   "source": [
    "location_array=location_count_df.location"
   ]
  },
  {
   "attachments": {},
   "cell_type": "markdown",
   "metadata": {},
   "source": [
    "#### 2.  Lọc các dữ liệu có tên thành phố hoặc tên quốc gia"
   ]
  },
  {
   "attachments": {},
   "cell_type": "markdown",
   "metadata": {},
   "source": [
    "##### Trích những tên thành phố và quốc gia *(đúng chuẩn)*"
   ]
  },
  {
   "attachments": {},
   "cell_type": "markdown",
   "metadata": {},
   "source": [
    "Tạo dataframe chứa thông tin: thành phố và quốc gia dựa trên các địa chỉ *(unique)*"
   ]
  },
  {
   "cell_type": "code",
   "execution_count": 32,
   "metadata": {
    "id": "hDlnzzxPUGxK"
   },
   "outputs": [],
   "source": [
    "location_dict={\"city\":[],\"country\":[]}\n",
    "for location_str in location_array:\n",
    "\n",
    "  if isinstance(location_str, str):\n",
    "    places = GeoText(location_str)\n",
    "\n",
    "    if len(places.cities)>0:\n",
    "      if len(places.cities)>1:\n",
    "        result=', '.join(places.cities)\n",
    "        location_dict[\"city\"].append(result)\n",
    "      else :\n",
    "        location_dict[\"city\"].append(places.cities[0])\n",
    "    else :\n",
    "        location_dict[\"city\"].append(np.nan)\n",
    "\n",
    "    if len(places.countries)>0:\n",
    "      location_dict[\"country\"].append(places.countries[0])\n",
    "    else :\n",
    "      location_dict[\"country\"].append(np.nan)\n",
    "  else:\n",
    "    location_dict[\"city\"].append(np.nan)\n",
    "    location_dict[\"country\"].append(np.nan)\n",
    "  "
   ]
  },
  {
   "cell_type": "code",
   "execution_count": 33,
   "metadata": {
    "colab": {
     "base_uri": "https://localhost:8080/",
     "height": 424
    },
    "id": "tHVldZlOCI8e",
    "outputId": "2cee253a-af61-446a-86f8-8208e974ef2a"
   },
   "outputs": [
    {
     "data": {
      "text/html": [
       "<div>\n",
       "<style scoped>\n",
       "    .dataframe tbody tr th:only-of-type {\n",
       "        vertical-align: middle;\n",
       "    }\n",
       "\n",
       "    .dataframe tbody tr th {\n",
       "        vertical-align: top;\n",
       "    }\n",
       "\n",
       "    .dataframe thead th {\n",
       "        text-align: right;\n",
       "    }\n",
       "</style>\n",
       "<table border=\"1\" class=\"dataframe\">\n",
       "  <thead>\n",
       "    <tr style=\"text-align: right;\">\n",
       "      <th></th>\n",
       "      <th>city</th>\n",
       "      <th>country</th>\n",
       "    </tr>\n",
       "  </thead>\n",
       "  <tbody>\n",
       "    <tr>\n",
       "      <th>0</th>\n",
       "      <td>NaN</td>\n",
       "      <td>NaN</td>\n",
       "    </tr>\n",
       "    <tr>\n",
       "      <th>1</th>\n",
       "      <td>New York</td>\n",
       "      <td>NaN</td>\n",
       "    </tr>\n",
       "    <tr>\n",
       "      <th>2</th>\n",
       "      <td>NaN</td>\n",
       "      <td>United States</td>\n",
       "    </tr>\n",
       "    <tr>\n",
       "      <th>3</th>\n",
       "      <td>London</td>\n",
       "      <td>NaN</td>\n",
       "    </tr>\n",
       "    <tr>\n",
       "      <th>4</th>\n",
       "      <td>NaN</td>\n",
       "      <td>Nigeria</td>\n",
       "    </tr>\n",
       "    <tr>\n",
       "      <th>...</th>\n",
       "      <td>...</td>\n",
       "      <td>...</td>\n",
       "    </tr>\n",
       "    <tr>\n",
       "      <th>4346</th>\n",
       "      <td>NaN</td>\n",
       "      <td>NaN</td>\n",
       "    </tr>\n",
       "    <tr>\n",
       "      <th>4347</th>\n",
       "      <td>NaN</td>\n",
       "      <td>NaN</td>\n",
       "    </tr>\n",
       "    <tr>\n",
       "      <th>4348</th>\n",
       "      <td>NaN</td>\n",
       "      <td>NaN</td>\n",
       "    </tr>\n",
       "    <tr>\n",
       "      <th>4349</th>\n",
       "      <td>NaN</td>\n",
       "      <td>NaN</td>\n",
       "    </tr>\n",
       "    <tr>\n",
       "      <th>4350</th>\n",
       "      <td>Lincoln</td>\n",
       "      <td>NaN</td>\n",
       "    </tr>\n",
       "  </tbody>\n",
       "</table>\n",
       "<p>4351 rows × 2 columns</p>\n",
       "</div>"
      ],
      "text/plain": [
       "          city        country\n",
       "0          NaN            NaN\n",
       "1     New York            NaN\n",
       "2          NaN  United States\n",
       "3       London            NaN\n",
       "4          NaN        Nigeria\n",
       "...        ...            ...\n",
       "4346       NaN            NaN\n",
       "4347       NaN            NaN\n",
       "4348       NaN            NaN\n",
       "4349       NaN            NaN\n",
       "4350   Lincoln            NaN\n",
       "\n",
       "[4351 rows x 2 columns]"
      ]
     },
     "execution_count": 33,
     "metadata": {},
     "output_type": "execute_result"
    }
   ],
   "source": [
    "location_df=pd.DataFrame(location_dict)\n",
    "location_df"
   ]
  },
  {
   "attachments": {},
   "cell_type": "markdown",
   "metadata": {},
   "source": [
    "##### Điền tên quốc gia cho các tweet chỉ có tên thành phố"
   ]
  },
  {
   "cell_type": "code",
   "execution_count": 34,
   "metadata": {
    "id": "yWASsR7JGfpW"
   },
   "outputs": [],
   "source": [
    "def get_country(city):\n",
    "  if not (city is np.nan):\n",
    "    geolocator = Nominatim(user_agent=\"my_app\")\n",
    "    location = geolocator.geocode(city)\n",
    "    if location:\n",
    "      return location.raw['display_name'].split(\",\")[-1].strip()\n",
    "    return np.nan\n",
    "  return np.nan"
   ]
  },
  {
   "cell_type": "code",
   "execution_count": 35,
   "metadata": {
    "id": "EZ20opjsJbor"
   },
   "outputs": [],
   "source": [
    "location_fill_country=location_df[~(location_df.city.isna()) & (location_df.country.isna())]"
   ]
  },
  {
   "cell_type": "code",
   "execution_count": 36,
   "metadata": {
    "colab": {
     "base_uri": "https://localhost:8080/",
     "height": 800
    },
    "id": "SV8nN3TRKj8Y",
    "outputId": "908e3044-677f-490a-d6c0-4dc6737182e9"
   },
   "outputs": [
    {
     "data": {
      "text/html": [
       "<div>\n",
       "<style scoped>\n",
       "    .dataframe tbody tr th:only-of-type {\n",
       "        vertical-align: middle;\n",
       "    }\n",
       "\n",
       "    .dataframe tbody tr th {\n",
       "        vertical-align: top;\n",
       "    }\n",
       "\n",
       "    .dataframe thead th {\n",
       "        text-align: right;\n",
       "    }\n",
       "</style>\n",
       "<table border=\"1\" class=\"dataframe\">\n",
       "  <thead>\n",
       "    <tr style=\"text-align: right;\">\n",
       "      <th></th>\n",
       "      <th>city</th>\n",
       "      <th>country</th>\n",
       "    </tr>\n",
       "  </thead>\n",
       "  <tbody>\n",
       "    <tr>\n",
       "      <th>0</th>\n",
       "      <td>NaN</td>\n",
       "      <td>NaN</td>\n",
       "    </tr>\n",
       "    <tr>\n",
       "      <th>1</th>\n",
       "      <td>New York</td>\n",
       "      <td>United States</td>\n",
       "    </tr>\n",
       "    <tr>\n",
       "      <th>2</th>\n",
       "      <td>NaN</td>\n",
       "      <td>United States</td>\n",
       "    </tr>\n",
       "    <tr>\n",
       "      <th>3</th>\n",
       "      <td>London</td>\n",
       "      <td>United Kingdom</td>\n",
       "    </tr>\n",
       "    <tr>\n",
       "      <th>4</th>\n",
       "      <td>NaN</td>\n",
       "      <td>Nigeria</td>\n",
       "    </tr>\n",
       "    <tr>\n",
       "      <th>...</th>\n",
       "      <td>...</td>\n",
       "      <td>...</td>\n",
       "    </tr>\n",
       "    <tr>\n",
       "      <th>4346</th>\n",
       "      <td>NaN</td>\n",
       "      <td>NaN</td>\n",
       "    </tr>\n",
       "    <tr>\n",
       "      <th>4347</th>\n",
       "      <td>NaN</td>\n",
       "      <td>NaN</td>\n",
       "    </tr>\n",
       "    <tr>\n",
       "      <th>4348</th>\n",
       "      <td>NaN</td>\n",
       "      <td>NaN</td>\n",
       "    </tr>\n",
       "    <tr>\n",
       "      <th>4349</th>\n",
       "      <td>NaN</td>\n",
       "      <td>NaN</td>\n",
       "    </tr>\n",
       "    <tr>\n",
       "      <th>4350</th>\n",
       "      <td>Lincoln</td>\n",
       "      <td>NaN</td>\n",
       "    </tr>\n",
       "  </tbody>\n",
       "</table>\n",
       "<p>4351 rows × 2 columns</p>\n",
       "</div>"
      ],
      "text/plain": [
       "          city         country\n",
       "0          NaN             NaN\n",
       "1     New York   United States\n",
       "2          NaN   United States\n",
       "3       London  United Kingdom\n",
       "4          NaN         Nigeria\n",
       "...        ...             ...\n",
       "4346       NaN             NaN\n",
       "4347       NaN             NaN\n",
       "4348       NaN             NaN\n",
       "4349       NaN             NaN\n",
       "4350   Lincoln             NaN\n",
       "\n",
       "[4351 rows x 2 columns]"
      ]
     },
     "execution_count": 36,
     "metadata": {},
     "output_type": "execute_result"
    }
   ],
   "source": [
    "# Đã chạy và lưu kết quả vào file fill_country.csv\n",
    "countries = location_fill_country.city.iloc[:5].apply(get_country)\n",
    "\n",
    "location_df.loc[countries.index, 'country'] = countries.values\n",
    "location_df"
   ]
  },
  {
   "attachments": {},
   "cell_type": "markdown",
   "metadata": {},
   "source": [
    "Xuất file `fill_country.csv` sau khi đã điền: để thuận tiện cho các lần chạy sau"
   ]
  },
  {
   "cell_type": "code",
   "execution_count": 37,
   "metadata": {
    "id": "Tw1may5IcBt-"
   },
   "outputs": [],
   "source": [
    "location_df[\"location\"]=pd.Series(location_array)"
   ]
  },
  {
   "cell_type": "code",
   "execution_count": 38,
   "metadata": {
    "id": "ihlyqHHYbnV5"
   },
   "outputs": [],
   "source": [
    "# location_df.to_csv(\"fill_country.csv\",index=False,header=True)"
   ]
  },
  {
   "attachments": {},
   "cell_type": "markdown",
   "metadata": {},
   "source": [
    "Đọc lại dữ liệu từ `fill_country.csv`"
   ]
  },
  {
   "cell_type": "code",
   "execution_count": 39,
   "metadata": {
    "id": "xRZwASBwKqqN"
   },
   "outputs": [
    {
     "data": {
      "text/html": [
       "<div>\n",
       "<style scoped>\n",
       "    .dataframe tbody tr th:only-of-type {\n",
       "        vertical-align: middle;\n",
       "    }\n",
       "\n",
       "    .dataframe tbody tr th {\n",
       "        vertical-align: top;\n",
       "    }\n",
       "\n",
       "    .dataframe thead th {\n",
       "        text-align: right;\n",
       "    }\n",
       "</style>\n",
       "<table border=\"1\" class=\"dataframe\">\n",
       "  <thead>\n",
       "    <tr style=\"text-align: right;\">\n",
       "      <th></th>\n",
       "      <th>city</th>\n",
       "      <th>country</th>\n",
       "      <th>location</th>\n",
       "    </tr>\n",
       "  </thead>\n",
       "  <tbody>\n",
       "    <tr>\n",
       "      <th>0</th>\n",
       "      <td>NaN</td>\n",
       "      <td>NaN</td>\n",
       "      <td>USA</td>\n",
       "    </tr>\n",
       "    <tr>\n",
       "      <th>1</th>\n",
       "      <td>New York</td>\n",
       "      <td>United States</td>\n",
       "      <td>New York</td>\n",
       "    </tr>\n",
       "    <tr>\n",
       "      <th>2</th>\n",
       "      <td>NaN</td>\n",
       "      <td>United States</td>\n",
       "      <td>United States</td>\n",
       "    </tr>\n",
       "    <tr>\n",
       "      <th>3</th>\n",
       "      <td>London</td>\n",
       "      <td>United Kingdom</td>\n",
       "      <td>London</td>\n",
       "    </tr>\n",
       "    <tr>\n",
       "      <th>4</th>\n",
       "      <td>NaN</td>\n",
       "      <td>Nigeria</td>\n",
       "      <td>Nigeria</td>\n",
       "    </tr>\n",
       "    <tr>\n",
       "      <th>...</th>\n",
       "      <td>...</td>\n",
       "      <td>...</td>\n",
       "      <td>...</td>\n",
       "    </tr>\n",
       "    <tr>\n",
       "      <th>4346</th>\n",
       "      <td>NaN</td>\n",
       "      <td>NaN</td>\n",
       "      <td>buenos aires argentina</td>\n",
       "    </tr>\n",
       "    <tr>\n",
       "      <th>4347</th>\n",
       "      <td>NaN</td>\n",
       "      <td>NaN</td>\n",
       "      <td>everydaynigerian@gmail.com</td>\n",
       "    </tr>\n",
       "    <tr>\n",
       "      <th>4348</th>\n",
       "      <td>NaN</td>\n",
       "      <td>NaN</td>\n",
       "      <td>Surulere Lagos,Home Of Swagg</td>\n",
       "    </tr>\n",
       "    <tr>\n",
       "      <th>4349</th>\n",
       "      <td>NaN</td>\n",
       "      <td>NaN</td>\n",
       "      <td>MontrÌ©al, QuÌ©bec</td>\n",
       "    </tr>\n",
       "    <tr>\n",
       "      <th>4350</th>\n",
       "      <td>Lincoln</td>\n",
       "      <td>United States</td>\n",
       "      <td>Lincoln</td>\n",
       "    </tr>\n",
       "  </tbody>\n",
       "</table>\n",
       "<p>4351 rows × 3 columns</p>\n",
       "</div>"
      ],
      "text/plain": [
       "          city         country                      location\n",
       "0          NaN             NaN                           USA\n",
       "1     New York   United States                      New York\n",
       "2          NaN   United States                 United States\n",
       "3       London  United Kingdom                        London\n",
       "4          NaN         Nigeria                       Nigeria\n",
       "...        ...             ...                           ...\n",
       "4346       NaN             NaN        buenos aires argentina\n",
       "4347       NaN             NaN    everydaynigerian@gmail.com\n",
       "4348       NaN             NaN  Surulere Lagos,Home Of Swagg\n",
       "4349       NaN             NaN            MontrÌ©al, QuÌ©bec\n",
       "4350   Lincoln   United States                       Lincoln\n",
       "\n",
       "[4351 rows x 3 columns]"
      ]
     },
     "execution_count": 39,
     "metadata": {},
     "output_type": "execute_result"
    }
   ],
   "source": [
    "location_df=pd.read_csv(\"datasets/fill_country.csv\")\n",
    "location_df"
   ]
  },
  {
   "attachments": {},
   "cell_type": "markdown",
   "metadata": {},
   "source": [
    "#### 3. Chuẩn hóa các thông tin bị trống cả tên thành phố và quốc gia"
   ]
  },
  {
   "attachments": {},
   "cell_type": "markdown",
   "metadata": {},
   "source": [
    "Lọc các tweet bị trống thông tin ở 2 cột thành phố và quốc gia"
   ]
  },
  {
   "cell_type": "code",
   "execution_count": 40,
   "metadata": {
    "id": "Sx0fthuKR4Tx"
   },
   "outputs": [
    {
     "data": {
      "text/html": [
       "<div>\n",
       "<style scoped>\n",
       "    .dataframe tbody tr th:only-of-type {\n",
       "        vertical-align: middle;\n",
       "    }\n",
       "\n",
       "    .dataframe tbody tr th {\n",
       "        vertical-align: top;\n",
       "    }\n",
       "\n",
       "    .dataframe thead th {\n",
       "        text-align: right;\n",
       "    }\n",
       "</style>\n",
       "<table border=\"1\" class=\"dataframe\">\n",
       "  <thead>\n",
       "    <tr style=\"text-align: right;\">\n",
       "      <th></th>\n",
       "      <th>city</th>\n",
       "      <th>country</th>\n",
       "      <th>location</th>\n",
       "    </tr>\n",
       "  </thead>\n",
       "  <tbody>\n",
       "    <tr>\n",
       "      <th>0</th>\n",
       "      <td>NaN</td>\n",
       "      <td>NaN</td>\n",
       "      <td>USA</td>\n",
       "    </tr>\n",
       "    <tr>\n",
       "      <th>7</th>\n",
       "      <td>NaN</td>\n",
       "      <td>NaN</td>\n",
       "      <td>Worldwide</td>\n",
       "    </tr>\n",
       "    <tr>\n",
       "      <th>9</th>\n",
       "      <td>NaN</td>\n",
       "      <td>NaN</td>\n",
       "      <td>UK</td>\n",
       "    </tr>\n",
       "    <tr>\n",
       "      <th>12</th>\n",
       "      <td>NaN</td>\n",
       "      <td>NaN</td>\n",
       "      <td>California</td>\n",
       "    </tr>\n",
       "    <tr>\n",
       "      <th>20</th>\n",
       "      <td>NaN</td>\n",
       "      <td>NaN</td>\n",
       "      <td>California, USA</td>\n",
       "    </tr>\n",
       "    <tr>\n",
       "      <th>...</th>\n",
       "      <td>...</td>\n",
       "      <td>...</td>\n",
       "      <td>...</td>\n",
       "    </tr>\n",
       "    <tr>\n",
       "      <th>4344</th>\n",
       "      <td>NaN</td>\n",
       "      <td>NaN</td>\n",
       "      <td>todaysbigstock.com</td>\n",
       "    </tr>\n",
       "    <tr>\n",
       "      <th>4346</th>\n",
       "      <td>NaN</td>\n",
       "      <td>NaN</td>\n",
       "      <td>buenos aires argentina</td>\n",
       "    </tr>\n",
       "    <tr>\n",
       "      <th>4347</th>\n",
       "      <td>NaN</td>\n",
       "      <td>NaN</td>\n",
       "      <td>everydaynigerian@gmail.com</td>\n",
       "    </tr>\n",
       "    <tr>\n",
       "      <th>4348</th>\n",
       "      <td>NaN</td>\n",
       "      <td>NaN</td>\n",
       "      <td>Surulere Lagos,Home Of Swagg</td>\n",
       "    </tr>\n",
       "    <tr>\n",
       "      <th>4349</th>\n",
       "      <td>NaN</td>\n",
       "      <td>NaN</td>\n",
       "      <td>MontrÌ©al, QuÌ©bec</td>\n",
       "    </tr>\n",
       "  </tbody>\n",
       "</table>\n",
       "<p>2454 rows × 3 columns</p>\n",
       "</div>"
      ],
      "text/plain": [
       "     city country                      location\n",
       "0     NaN     NaN                           USA\n",
       "7     NaN     NaN                     Worldwide\n",
       "9     NaN     NaN                            UK\n",
       "12    NaN     NaN                    California\n",
       "20    NaN     NaN               California, USA\n",
       "...   ...     ...                           ...\n",
       "4344  NaN     NaN            todaysbigstock.com\n",
       "4346  NaN     NaN        buenos aires argentina\n",
       "4347  NaN     NaN    everydaynigerian@gmail.com\n",
       "4348  NaN     NaN  Surulere Lagos,Home Of Swagg\n",
       "4349  NaN     NaN            MontrÌ©al, QuÌ©bec\n",
       "\n",
       "[2454 rows x 3 columns]"
      ]
     },
     "execution_count": 40,
     "metadata": {},
     "output_type": "execute_result"
    }
   ],
   "source": [
    "location_nan_all_df=location_df[(location_df.city.isna()) & (location_df.country.isna())]\n",
    "location_nan_all_df"
   ]
  },
  {
   "attachments": {},
   "cell_type": "markdown",
   "metadata": {},
   "source": [
    "Hàm trả về tên quốc gia cho location chưa chuẩn hóa *(nếu có đề cập)*"
   ]
  },
  {
   "cell_type": "code",
   "execution_count": 41,
   "metadata": {
    "id": "gxcYa714uhg8"
   },
   "outputs": [],
   "source": [
    "def get_country_nan_all(c):\n",
    "  geolocator = Nominatim(user_agent='myencoder', timeout=10)\n",
    "  first = geolocator.geocode(c)\n",
    "  if first:\n",
    "    place=GeoText(first.address)\n",
    "    if len(place.countries)<1:\n",
    "      return first.raw['display_name'].split(\",\")[-1].strip()\n",
    "    else :\n",
    "      return place.countries[0]\n",
    "  else :\n",
    "    return np.nan"
   ]
  },
  {
   "cell_type": "code",
   "execution_count": 42,
   "metadata": {},
   "outputs": [
    {
     "data": {
      "text/plain": [
       "3514"
      ]
     },
     "execution_count": 42,
     "metadata": {},
     "output_type": "execute_result"
    }
   ],
   "source": [
    "location_count_df[location_count_df.counts>1].counts.sum()"
   ]
  },
  {
   "attachments": {},
   "cell_type": "markdown",
   "metadata": {},
   "source": [
    "- Nhận xét:\n",
    "    - Thực hiện chuẩn hóa cho các địa điểm xuất hiện nhiều hơn 1 lần.\n",
    "    - Theo tìm hiểu để có thể lấy được tên các quốc gia chưa được chuẩn hóa trong ngôn ngữ tự nhiên. Nhóm quyết định xử dụng thư viện `geopy`: truy cập lấy từ API từ [OpenStreetMap Nominatim](https://nominatim.openstreermap.org). Cho phép lấy được cả các thông tin chưa được chuẩn hóa dựa trên gợi ý từ API. Tuy nhiên với điều khoản chỉ có thểm lấy 1 địa chỉ/s và bị giới hạn số lần yêu cầu. Nên khó khăn trong việc chuẩn hóa toàn bộ.\n"
   ]
  },
  {
   "cell_type": "code",
   "execution_count": 43,
   "metadata": {},
   "outputs": [],
   "source": [
    "len_NanCountrySuggest=location_count_df[location_count_df.counts>1].shape[0]"
   ]
  },
  {
   "cell_type": "code",
   "execution_count": 44,
   "metadata": {},
   "outputs": [
    {
     "data": {
      "text/html": [
       "<div>\n",
       "<style scoped>\n",
       "    .dataframe tbody tr th:only-of-type {\n",
       "        vertical-align: middle;\n",
       "    }\n",
       "\n",
       "    .dataframe tbody tr th {\n",
       "        vertical-align: top;\n",
       "    }\n",
       "\n",
       "    .dataframe thead th {\n",
       "        text-align: right;\n",
       "    }\n",
       "</style>\n",
       "<table border=\"1\" class=\"dataframe\">\n",
       "  <thead>\n",
       "    <tr style=\"text-align: right;\">\n",
       "      <th></th>\n",
       "      <th>city</th>\n",
       "      <th>country</th>\n",
       "      <th>location</th>\n",
       "    </tr>\n",
       "  </thead>\n",
       "  <tbody>\n",
       "    <tr>\n",
       "      <th>0</th>\n",
       "      <td>NaN</td>\n",
       "      <td>NaN</td>\n",
       "      <td>USA</td>\n",
       "    </tr>\n",
       "    <tr>\n",
       "      <th>7</th>\n",
       "      <td>NaN</td>\n",
       "      <td>NaN</td>\n",
       "      <td>Worldwide</td>\n",
       "    </tr>\n",
       "    <tr>\n",
       "      <th>9</th>\n",
       "      <td>NaN</td>\n",
       "      <td>NaN</td>\n",
       "      <td>UK</td>\n",
       "    </tr>\n",
       "    <tr>\n",
       "      <th>12</th>\n",
       "      <td>NaN</td>\n",
       "      <td>NaN</td>\n",
       "      <td>California</td>\n",
       "    </tr>\n",
       "    <tr>\n",
       "      <th>20</th>\n",
       "      <td>NaN</td>\n",
       "      <td>NaN</td>\n",
       "      <td>California, USA</td>\n",
       "    </tr>\n",
       "    <tr>\n",
       "      <th>...</th>\n",
       "      <td>...</td>\n",
       "      <td>...</td>\n",
       "      <td>...</td>\n",
       "    </tr>\n",
       "    <tr>\n",
       "      <th>719</th>\n",
       "      <td>NaN</td>\n",
       "      <td>NaN</td>\n",
       "      <td>far away</td>\n",
       "    </tr>\n",
       "    <tr>\n",
       "      <th>723</th>\n",
       "      <td>NaN</td>\n",
       "      <td>NaN</td>\n",
       "      <td>hyderabad</td>\n",
       "    </tr>\n",
       "    <tr>\n",
       "      <th>725</th>\n",
       "      <td>NaN</td>\n",
       "      <td>NaN</td>\n",
       "      <td>434</td>\n",
       "    </tr>\n",
       "    <tr>\n",
       "      <th>726</th>\n",
       "      <td>NaN</td>\n",
       "      <td>NaN</td>\n",
       "      <td>sydney, australia</td>\n",
       "    </tr>\n",
       "    <tr>\n",
       "      <th>728</th>\n",
       "      <td>NaN</td>\n",
       "      <td>NaN</td>\n",
       "      <td>302</td>\n",
       "    </tr>\n",
       "  </tbody>\n",
       "</table>\n",
       "<p>286 rows × 3 columns</p>\n",
       "</div>"
      ],
      "text/plain": [
       "    city country           location\n",
       "0    NaN     NaN                USA\n",
       "7    NaN     NaN          Worldwide\n",
       "9    NaN     NaN                 UK\n",
       "12   NaN     NaN         California\n",
       "20   NaN     NaN    California, USA\n",
       "..   ...     ...                ...\n",
       "719  NaN     NaN           far away\n",
       "723  NaN     NaN          hyderabad\n",
       "725  NaN     NaN                434\n",
       "726  NaN     NaN  sydney, australia\n",
       "728  NaN     NaN                302\n",
       "\n",
       "[286 rows x 3 columns]"
      ]
     },
     "execution_count": 44,
     "metadata": {},
     "output_type": "execute_result"
    }
   ],
   "source": [
    "location_nan_all_df[location_nan_all_df.index<len_NanCountrySuggest]"
   ]
  },
  {
   "cell_type": "code",
   "execution_count": 45,
   "metadata": {},
   "outputs": [],
   "source": [
    "start_idx=0\n",
    "end_idx=100\n",
    "steps=100\n",
    "# n=location_nan_all[location_nan_all.index<len_NanCountrySuggest].shape[0]\n",
    "n=0\n",
    "while(True):\n",
    "    if end_idx>n:\n",
    "        countries = location_nan_all_df.location.iloc[start_idx:n].apply(get_country_nan_all)\n",
    "        location_df.loc[countries.index, 'country'] = countries.values\n",
    "        break\n",
    "    countries = location_nan_all_df.location.iloc[start_idx:end_idx].apply(get_country_nan_all)\n",
    "    location_df.loc[countries.index, 'country'] = countries.values\n",
    "    print(end_idx)\n",
    "    start_idx+=steps\n",
    "    end_idx+=steps"
   ]
  },
  {
   "attachments": {},
   "cell_type": "markdown",
   "metadata": {},
   "source": [
    "Xuất file `fill_locatioin.csv` sau khi đã điền: để thuận tiện cho các lần chạy sau"
   ]
  },
  {
   "cell_type": "code",
   "execution_count": 46,
   "metadata": {},
   "outputs": [],
   "source": [
    "# location_df.to_csv(\"fill_location.csv\",index=False,header=True)"
   ]
  },
  {
   "cell_type": "code",
   "execution_count": 47,
   "metadata": {},
   "outputs": [],
   "source": [
    "location_nomalize_df=pd.read_csv(\"datasets/fill_location.csv\")"
   ]
  },
  {
   "cell_type": "code",
   "execution_count": 48,
   "metadata": {},
   "outputs": [
    {
     "data": {
      "text/html": [
       "<div>\n",
       "<style scoped>\n",
       "    .dataframe tbody tr th:only-of-type {\n",
       "        vertical-align: middle;\n",
       "    }\n",
       "\n",
       "    .dataframe tbody tr th {\n",
       "        vertical-align: top;\n",
       "    }\n",
       "\n",
       "    .dataframe thead th {\n",
       "        text-align: right;\n",
       "    }\n",
       "</style>\n",
       "<table border=\"1\" class=\"dataframe\">\n",
       "  <thead>\n",
       "    <tr style=\"text-align: right;\">\n",
       "      <th></th>\n",
       "      <th>city</th>\n",
       "      <th>country</th>\n",
       "      <th>location</th>\n",
       "    </tr>\n",
       "  </thead>\n",
       "  <tbody>\n",
       "    <tr>\n",
       "      <th>0</th>\n",
       "      <td>NaN</td>\n",
       "      <td>United States</td>\n",
       "      <td>USA</td>\n",
       "    </tr>\n",
       "    <tr>\n",
       "      <th>1</th>\n",
       "      <td>New York</td>\n",
       "      <td>United States</td>\n",
       "      <td>New York</td>\n",
       "    </tr>\n",
       "    <tr>\n",
       "      <th>2</th>\n",
       "      <td>NaN</td>\n",
       "      <td>United States</td>\n",
       "      <td>United States</td>\n",
       "    </tr>\n",
       "    <tr>\n",
       "      <th>3</th>\n",
       "      <td>London</td>\n",
       "      <td>United Kingdom</td>\n",
       "      <td>London</td>\n",
       "    </tr>\n",
       "    <tr>\n",
       "      <th>4</th>\n",
       "      <td>NaN</td>\n",
       "      <td>Nigeria</td>\n",
       "      <td>Nigeria</td>\n",
       "    </tr>\n",
       "    <tr>\n",
       "      <th>5</th>\n",
       "      <td>NaN</td>\n",
       "      <td>Canada</td>\n",
       "      <td>Canada</td>\n",
       "    </tr>\n",
       "    <tr>\n",
       "      <th>6</th>\n",
       "      <td>NaN</td>\n",
       "      <td>India</td>\n",
       "      <td>India</td>\n",
       "    </tr>\n",
       "    <tr>\n",
       "      <th>7</th>\n",
       "      <td>NaN</td>\n",
       "      <td>United Kingdom</td>\n",
       "      <td>Worldwide</td>\n",
       "    </tr>\n",
       "    <tr>\n",
       "      <th>8</th>\n",
       "      <td>Los Angeles</td>\n",
       "      <td>United States</td>\n",
       "      <td>Los Angeles, CA</td>\n",
       "    </tr>\n",
       "    <tr>\n",
       "      <th>9</th>\n",
       "      <td>NaN</td>\n",
       "      <td>United Kingdom</td>\n",
       "      <td>UK</td>\n",
       "    </tr>\n",
       "  </tbody>\n",
       "</table>\n",
       "</div>"
      ],
      "text/plain": [
       "          city         country         location\n",
       "0          NaN   United States              USA\n",
       "1     New York   United States         New York\n",
       "2          NaN   United States    United States\n",
       "3       London  United Kingdom           London\n",
       "4          NaN         Nigeria          Nigeria\n",
       "5          NaN          Canada           Canada\n",
       "6          NaN           India            India\n",
       "7          NaN  United Kingdom        Worldwide\n",
       "8  Los Angeles   United States  Los Angeles, CA\n",
       "9          NaN  United Kingdom               UK"
      ]
     },
     "execution_count": 48,
     "metadata": {},
     "output_type": "execute_result"
    }
   ],
   "source": [
    "location_nomalize_df.head(10)"
   ]
  },
  {
   "cell_type": "code",
   "execution_count": 49,
   "metadata": {},
   "outputs": [],
   "source": [
    "location_nomalize_df.loc[location_nomalize_df.location==\"Worldwide\",\"country\"]=\"Worldwide\""
   ]
  },
  {
   "attachments": {},
   "cell_type": "markdown",
   "metadata": {},
   "source": [
    "Thực hiện chuẩn hóa dữ liệu vào tập dữ liệu `train_df` và `test_df`"
   ]
  },
  {
   "cell_type": "code",
   "execution_count": 50,
   "metadata": {},
   "outputs": [],
   "source": [
    "train_df = train_df.merge(location_nomalize_df, how='left',on =\"location\")\n",
    "test_df = test_df.merge(location_nomalize_df, how='left',on =\"location\")"
   ]
  },
  {
   "cell_type": "code",
   "execution_count": 54,
   "metadata": {},
   "outputs": [],
   "source": [
    "train_df=train_df[[\"id\", \"keyword\", \"city\", \"country\", \"location\", \"text\", \"target\"]]"
   ]
  },
  {
   "cell_type": "code",
   "execution_count": 55,
   "metadata": {},
   "outputs": [
    {
     "data": {
      "text/html": [
       "<div>\n",
       "<style scoped>\n",
       "    .dataframe tbody tr th:only-of-type {\n",
       "        vertical-align: middle;\n",
       "    }\n",
       "\n",
       "    .dataframe tbody tr th {\n",
       "        vertical-align: top;\n",
       "    }\n",
       "\n",
       "    .dataframe thead th {\n",
       "        text-align: right;\n",
       "    }\n",
       "</style>\n",
       "<table border=\"1\" class=\"dataframe\">\n",
       "  <thead>\n",
       "    <tr style=\"text-align: right;\">\n",
       "      <th></th>\n",
       "      <th>id</th>\n",
       "      <th>keyword</th>\n",
       "      <th>city</th>\n",
       "      <th>country</th>\n",
       "      <th>location</th>\n",
       "      <th>text</th>\n",
       "      <th>target</th>\n",
       "    </tr>\n",
       "  </thead>\n",
       "  <tbody>\n",
       "    <tr>\n",
       "      <th>0</th>\n",
       "      <td>1</td>\n",
       "      <td>NaN</td>\n",
       "      <td>NaN</td>\n",
       "      <td>NaN</td>\n",
       "      <td>NaN</td>\n",
       "      <td>Our Deeds are the Reason of this #earthquake May ALLAH Forgive us all</td>\n",
       "      <td>1</td>\n",
       "    </tr>\n",
       "    <tr>\n",
       "      <th>1</th>\n",
       "      <td>4</td>\n",
       "      <td>NaN</td>\n",
       "      <td>NaN</td>\n",
       "      <td>NaN</td>\n",
       "      <td>NaN</td>\n",
       "      <td>Forest fire near La Ronge Sask. Canada</td>\n",
       "      <td>1</td>\n",
       "    </tr>\n",
       "    <tr>\n",
       "      <th>2</th>\n",
       "      <td>5</td>\n",
       "      <td>NaN</td>\n",
       "      <td>NaN</td>\n",
       "      <td>NaN</td>\n",
       "      <td>NaN</td>\n",
       "      <td>All residents asked to 'shelter in place' are being notified by officers. No other evacuation or shelter in place orders are expected</td>\n",
       "      <td>1</td>\n",
       "    </tr>\n",
       "    <tr>\n",
       "      <th>3</th>\n",
       "      <td>6</td>\n",
       "      <td>NaN</td>\n",
       "      <td>NaN</td>\n",
       "      <td>NaN</td>\n",
       "      <td>NaN</td>\n",
       "      <td>13,000 people receive #wildfires evacuation orders in California</td>\n",
       "      <td>1</td>\n",
       "    </tr>\n",
       "    <tr>\n",
       "      <th>4</th>\n",
       "      <td>7</td>\n",
       "      <td>NaN</td>\n",
       "      <td>NaN</td>\n",
       "      <td>NaN</td>\n",
       "      <td>NaN</td>\n",
       "      <td>Just got sent this photo from Ruby #Alaska as smoke from #wildfires pours into a school</td>\n",
       "      <td>1</td>\n",
       "    </tr>\n",
       "  </tbody>\n",
       "</table>\n",
       "</div>"
      ],
      "text/plain": [
       "   id keyword city country location  \\\n",
       "0   1     NaN  NaN     NaN      NaN   \n",
       "1   4     NaN  NaN     NaN      NaN   \n",
       "2   5     NaN  NaN     NaN      NaN   \n",
       "3   6     NaN  NaN     NaN      NaN   \n",
       "4   7     NaN  NaN     NaN      NaN   \n",
       "\n",
       "                                                                                                                                    text  \\\n",
       "0                                                                  Our Deeds are the Reason of this #earthquake May ALLAH Forgive us all   \n",
       "1                                                                                                 Forest fire near La Ronge Sask. Canada   \n",
       "2  All residents asked to 'shelter in place' are being notified by officers. No other evacuation or shelter in place orders are expected   \n",
       "3                                                                      13,000 people receive #wildfires evacuation orders in California    \n",
       "4                                               Just got sent this photo from Ruby #Alaska as smoke from #wildfires pours into a school    \n",
       "\n",
       "   target  \n",
       "0       1  \n",
       "1       1  \n",
       "2       1  \n",
       "3       1  \n",
       "4       1  "
      ]
     },
     "execution_count": 55,
     "metadata": {},
     "output_type": "execute_result"
    }
   ],
   "source": [
    "train_df.head()"
   ]
  },
  {
   "cell_type": "code",
   "execution_count": 56,
   "metadata": {},
   "outputs": [],
   "source": [
    "test_df=test_df[[\"id\", \"keyword\", \"city\", \"country\", \"location\", \"text\"]]"
   ]
  },
  {
   "cell_type": "code",
   "execution_count": 57,
   "metadata": {},
   "outputs": [
    {
     "data": {
      "text/html": [
       "<div>\n",
       "<style scoped>\n",
       "    .dataframe tbody tr th:only-of-type {\n",
       "        vertical-align: middle;\n",
       "    }\n",
       "\n",
       "    .dataframe tbody tr th {\n",
       "        vertical-align: top;\n",
       "    }\n",
       "\n",
       "    .dataframe thead th {\n",
       "        text-align: right;\n",
       "    }\n",
       "</style>\n",
       "<table border=\"1\" class=\"dataframe\">\n",
       "  <thead>\n",
       "    <tr style=\"text-align: right;\">\n",
       "      <th></th>\n",
       "      <th>id</th>\n",
       "      <th>keyword</th>\n",
       "      <th>city</th>\n",
       "      <th>country</th>\n",
       "      <th>location</th>\n",
       "      <th>text</th>\n",
       "    </tr>\n",
       "  </thead>\n",
       "  <tbody>\n",
       "    <tr>\n",
       "      <th>0</th>\n",
       "      <td>0</td>\n",
       "      <td>NaN</td>\n",
       "      <td>NaN</td>\n",
       "      <td>NaN</td>\n",
       "      <td>NaN</td>\n",
       "      <td>Just happened a terrible car crash</td>\n",
       "    </tr>\n",
       "    <tr>\n",
       "      <th>1</th>\n",
       "      <td>2</td>\n",
       "      <td>NaN</td>\n",
       "      <td>NaN</td>\n",
       "      <td>NaN</td>\n",
       "      <td>NaN</td>\n",
       "      <td>Heard about #earthquake is different cities, stay safe everyone.</td>\n",
       "    </tr>\n",
       "    <tr>\n",
       "      <th>2</th>\n",
       "      <td>3</td>\n",
       "      <td>NaN</td>\n",
       "      <td>NaN</td>\n",
       "      <td>NaN</td>\n",
       "      <td>NaN</td>\n",
       "      <td>there is a forest fire at spot pond, geese are fleeing across the street, I cannot save them all</td>\n",
       "    </tr>\n",
       "    <tr>\n",
       "      <th>3</th>\n",
       "      <td>9</td>\n",
       "      <td>NaN</td>\n",
       "      <td>NaN</td>\n",
       "      <td>NaN</td>\n",
       "      <td>NaN</td>\n",
       "      <td>Apocalypse lighting. #Spokane #wildfires</td>\n",
       "    </tr>\n",
       "    <tr>\n",
       "      <th>4</th>\n",
       "      <td>11</td>\n",
       "      <td>NaN</td>\n",
       "      <td>NaN</td>\n",
       "      <td>NaN</td>\n",
       "      <td>NaN</td>\n",
       "      <td>Typhoon Soudelor kills 28 in China and Taiwan</td>\n",
       "    </tr>\n",
       "  </tbody>\n",
       "</table>\n",
       "</div>"
      ],
      "text/plain": [
       "   id keyword city country location  \\\n",
       "0   0     NaN  NaN     NaN      NaN   \n",
       "1   2     NaN  NaN     NaN      NaN   \n",
       "2   3     NaN  NaN     NaN      NaN   \n",
       "3   9     NaN  NaN     NaN      NaN   \n",
       "4  11     NaN  NaN     NaN      NaN   \n",
       "\n",
       "                                                                                               text  \n",
       "0                                                                Just happened a terrible car crash  \n",
       "1                                  Heard about #earthquake is different cities, stay safe everyone.  \n",
       "2  there is a forest fire at spot pond, geese are fleeing across the street, I cannot save them all  \n",
       "3                                                          Apocalypse lighting. #Spokane #wildfires  \n",
       "4                                                     Typhoon Soudelor kills 28 in China and Taiwan  "
      ]
     },
     "execution_count": 57,
     "metadata": {},
     "output_type": "execute_result"
    }
   ],
   "source": [
    "test_df.head()"
   ]
  },
  {
   "attachments": {},
   "cell_type": "markdown",
   "metadata": {},
   "source": [
    "<a name=\"2\"></a>\n",
    "# <font color=#0404B4> B. Khám phá dữ liệu</font>\n"
   ]
  },
  {
   "attachments": {},
   "cell_type": "markdown",
   "metadata": {},
   "source": []
  }
 ],
 "metadata": {
  "colab": {
   "provenance": []
  },
  "kernelspec": {
   "display_name": "Python 3 (ipykernel)",
   "language": "python",
   "name": "python3"
  },
  "language_info": {
   "codemirror_mode": {
    "name": "ipython",
    "version": 3
   },
   "file_extension": ".py",
   "mimetype": "text/x-python",
   "name": "python",
   "nbconvert_exporter": "python",
   "pygments_lexer": "ipython3",
   "version": "3.8.8"
  }
 },
 "nbformat": 4,
 "nbformat_minor": 1
}
